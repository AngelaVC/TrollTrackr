{
 "cells": [
  {
   "cell_type": "code",
   "execution_count": null,
   "metadata": {
    "collapsed": true
   },
   "outputs": [],
   "source": [
    "#import tweepy # module for downloading tweets\n",
    "#from tweepy import OAuthHandler,AppAuthHandler, Cursor\n",
    "import pandas as pd\n",
    "import sqlite3\n",
    "import os\n",
    "import json\n",
    "import sys\n",
    "import numpy as np\n",
    "\n",
    "# tweepy basic setup\n",
    "import tweepy\n",
    "from tweepy import OAuthHandler\n",
    "\n",
    "import ast\n",
    "import re\n",
    "\n",
    "import config"
   ]
  },
  {
   "cell_type": "code",
   "execution_count": null,
   "metadata": {
    "collapsed": true
   },
   "outputs": [],
   "source": [
    "# Uncomment and enter info from twitter API or create config.py file\n",
    "#consumer_key = \n",
    "#consumer_secret = \n",
    "#access_token = \n",
    "#access_secret =\n",
    " \n",
    "auth = OAuthHandler(config.consumer_key, config.consumer_secret)\n",
    "auth.set_access_token(config.access_token, config.access_secret)\n",
    "\n",
    "# setting wait_on_rate_limit prevents overuse\n",
    "api = tweepy.API(auth, wait_on_rate_limit=True)"
   ]
  },
  {
   "cell_type": "code",
   "execution_count": null,
   "metadata": {
    "collapsed": true
   },
   "outputs": [],
   "source": [
    "# need to start with a file of possible trolls (from a blocklist)\n",
    "user_df = pd.read_csv(open('trollsJune20full.csv','rU'), encoding='utf-8', engine='python')\n",
    "\n",
    "# or file of possible humans (general users, on at least one list)\n",
    "\n",
    "\n",
    "# add a column 'downloaded' and initialize with False\n",
    "user_df['downloaded']=False"
   ]
  },
  {
   "cell_type": "code",
   "execution_count": null,
   "metadata": {
    "collapsed": true
   },
   "outputs": [],
   "source": [
    "def get_tweets(user_df,block,filename,number=200)\n",
    "    '''\n",
    "    This function grabs all of the tweets for the users in user_df. This should be a dataframe of \n",
    "    all blocked users (block=1) or all not blocked (block=0). Enter filename for database (but can be new SQL file\n",
    "    so long as it is in format specified below. Default number of tweets to grab is 200.)\n",
    "    '''\n",
    "\n",
    "    # Opening a connection to the sqlite3 database\n",
    "    # create a filename database (e.g. tweets.db) if there is not one right now\n",
    "    # else connect to the current database\n",
    "\n",
    "    if not os.path.exists('filename'):\n",
    "        conn = sqlite3.connect('filename')\n",
    "        c = conn.cursor()\n",
    "        # creating a table if it does not exist.\n",
    "        c.execute('''CREATE TABLE tweets (tweet TEXT, tweet_id INTEGER, screen_name TEXT, mentions TEXT, created_at TEXT, troll INTEGER)''')\n",
    "    else:\n",
    "        conn = sqlite3.connect('filename')\n",
    "        c = conn.cursor()\n",
    "\n",
    "    #initialize a list to hold all the tweepy Tweets\n",
    "    alltweets = []\n",
    "    new_tweets = []\n",
    "\n",
    "    # look in user_df at each row\n",
    "    for index, row in user_df.iterrows():\n",
    "        if row['downloaded']==False:\n",
    "            print('Getting {x}'.format(x=row['screen_name']))\n",
    "\n",
    "        #make request for most recent tweets\n",
    "        try:\n",
    "            new_tweets = api.user_timeline(screen_name = row['screen_name'],count=number)\n",
    "        except tweepy.TweepError as e:\n",
    "            print('Error ')\n",
    "            print(e.api_code)\n",
    "            pass\n",
    "\n",
    "        # write these to the sql database\n",
    "        for tweet in new_tweets: #Saving tweets to SQL\n",
    "            tweet._json #First convert tweets from string to json object.\n",
    "\n",
    "            # collect my variables of interest\n",
    "            text = tweet.text \n",
    "            tweet_id = tweet.id\n",
    "            screen_name = tweet.user.screen_name\n",
    "            mentions = re.sub(r'[^\\x00-\\x7f]',r'', str(tweet.entities))\n",
    "            mentions = str(ast.literal_eval(mentions)['user_mentions'])\n",
    "            created_at = tweet.created_at\n",
    "            troll = block \n",
    "\n",
    "            c.execute(\"INSERT INTO tweets VALUES (?,?,?,?,?,?)\",(text,tweet_id,screen_name,mentions,created_at,troll))\n",
    "            conn.commit()  \n",
    "\n",
    "            user_df.loc[index, 'downloaded']=True\n",
    "\n",
    "    conn.close() #Close connection.\n"
   ]
  }
 ],
 "metadata": {
  "kernelspec": {
   "display_name": "Python 3",
   "language": "python",
   "name": "python3"
  },
  "language_info": {
   "codemirror_mode": {
    "name": "ipython",
    "version": 3
   },
   "file_extension": ".py",
   "mimetype": "text/x-python",
   "name": "python",
   "nbconvert_exporter": "python",
   "pygments_lexer": "ipython3",
   "version": "3.6.0"
  }
 },
 "nbformat": 4,
 "nbformat_minor": 2
}
