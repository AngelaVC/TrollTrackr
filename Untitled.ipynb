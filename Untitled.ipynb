{
 "cells": [
  {
   "cell_type": "code",
   "execution_count": null,
   "metadata": {
    "collapsed": true
   },
   "outputs": [],
   "source": [
    "#import tweepy # module for downloading tweets\n",
    "#from tweepy import OAuthHandler,AppAuthHandler, Cursor\n",
    "import pandas as pd\n",
    "import sqlite3\n",
    "import os\n",
    "import json\n",
    "import sys\n",
    "import numpy as np\n",
    "\n",
    "# tweepy basic setup\n",
    "import tweepy\n",
    "from tweepy import OAuthHandler\n",
    "\n",
    "import ast\n",
    "import re"
   ]
  },
  {
   "cell_type": "code",
   "execution_count": null,
   "metadata": {
    "collapsed": true
   },
   "outputs": [],
   "source": [
    "# Uncomment and enter info from twitter API\n",
    "#consumer_key = \n",
    "#consumer_secret = \n",
    "#access_token = \n",
    "#access_secret =\n",
    " \n",
    "auth = OAuthHandler(consumer_key, consumer_secret)\n",
    "auth.set_access_token(access_token, access_secret)\n",
    "\n",
    "# setting wait_on_rate_limit prevents overuse\n",
    "api = tweepy.API(auth, wait_on_rate_limit=True)"
   ]
  },
  {
   "cell_type": "code",
   "execution_count": null,
   "metadata": {
    "collapsed": true
   },
   "outputs": [],
   "source": []
  },
  {
   "cell_type": "code",
   "execution_count": null,
   "metadata": {
    "collapsed": true
   },
   "outputs": [],
   "source": [
    "# should setup user_df with a 'download' column before \n",
    "\n",
    "def get_tweets_users(user_df):\n",
    "    i=0\n",
    "    for index, row in user_df.iterrows():\n",
    "        if row['downloaded']==False:\n",
    "            print('Getting {x}'.format(x=row['screen_name']))\n",
    "            get_user_tweets(row['screen_name'])\n",
    "            user_df.loc[index, 'downloaded']=True\n",
    "            i+=1\n",
    "            \n",
    "            # update tweets every 10 users\n",
    "            if i % 10 == 0:\n",
    "                user_df.to_csv('latestTweets.csv',encoding='utf-8')\n",
    "            print('Wrote {x}_tweets.csv. Processed {y} users so far.'.format(x=row['screen_name'],y=i))\n",
    "            \n",
    "    return "
   ]
  },
  {
   "cell_type": "code",
   "execution_count": null,
   "metadata": {
    "collapsed": true
   },
   "outputs": [],
   "source": [
    "# need to start with a file of possible trolls\n",
    "trolls_df = pd.read_csv(open('trollsJune20full.csv','rU'), encoding='utf-8', engine='python')"
   ]
  }
 ],
 "metadata": {
  "kernelspec": {
   "display_name": "Python 3",
   "language": "python",
   "name": "python3"
  },
  "language_info": {
   "codemirror_mode": {
    "name": "ipython",
    "version": 3
   },
   "file_extension": ".py",
   "mimetype": "text/x-python",
   "name": "python",
   "nbconvert_exporter": "python",
   "pygments_lexer": "ipython3",
   "version": "3.6.0"
  }
 },
 "nbformat": 4,
 "nbformat_minor": 2
}
