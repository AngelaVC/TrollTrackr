{
 "cells": [
  {
   "cell_type": "code",
   "execution_count": 1,
   "metadata": {
    "collapsed": true
   },
   "outputs": [],
   "source": [
    "import pandas as pd\n",
    "import sqlite3\n",
    "import os\n",
    "import json\n",
    "import sys\n",
    "import numpy as np\n",
    "\n",
    "import ast\n",
    "import re\n",
    "\n",
    "import math\n",
    "from datetime import date\n",
    "\n",
    "import pickle\n",
    "\n",
    "import matplotlib.pyplot as plt\n",
    "%matplotlib inline"
   ]
  },
  {
   "cell_type": "markdown",
   "metadata": {},
   "source": [
    "# Stopwords"
   ]
  },
  {
   "cell_type": "code",
   "execution_count": 404,
   "metadata": {
    "collapsed": true
   },
   "outputs": [],
   "source": [
    "#stopwords list\n",
    "from sklearn.feature_extraction import stop_words\n",
    "stopwords = stop_words.ENGLISH_STOP_WORDS\n",
    "\n",
    "#turn into a set then take the difference to pull out some words I don't want in list\n",
    "stopwords = set(stopwords)\n",
    "stopwords = stopwords.difference({'against', 'any','anything', 'because', 'bill','he','her','his','hers', 'him','she','i','mill','my','never','no','nobody','nothing','nowhere,','our','ours','mine','ourselves','out','take','together','us','we','why'})"
   ]
  },
  {
   "cell_type": "code",
   "execution_count": 405,
   "metadata": {
    "collapsed": false
   },
   "outputs": [],
   "source": [
    "# forms of the word you, which will be important in determining trolling behavior\n",
    "you_forms = ['you','your','yours','yourself','yourselves']"
   ]
  },
  {
   "cell_type": "markdown",
   "metadata": {},
   "source": [
    "# Gathering and Processing blocked users"
   ]
  },
  {
   "cell_type": "code",
   "execution_count": 1221,
   "metadata": {
    "collapsed": false
   },
   "outputs": [],
   "source": [
    "# Pull in blocklist users\n",
    "conn = sqlite3.connect('tweets.db')\n",
    "c = conn.cursor()\n",
    "block_tweets_df = pd.read_sql_query(\"Select * from tweets\",conn)\n",
    "conn.close()"
   ]
  },
  {
   "cell_type": "code",
   "execution_count": 1222,
   "metadata": {
    "collapsed": false
   },
   "outputs": [
    {
     "data": {
      "text/plain": [
       "(3202354, 6)"
      ]
     },
     "execution_count": 1222,
     "metadata": {},
     "output_type": "execute_result"
    }
   ],
   "source": [
    "block_tweets_df.shape"
   ]
  },
  {
   "cell_type": "code",
   "execution_count": 5,
   "metadata": {
    "collapsed": false
   },
   "outputs": [],
   "source": [
    "# this should get rid of any duplicates (which I accidentally allowed in database)\n",
    "conn = sqlite3.connect('tweets.db')\n",
    "c = conn.cursor()\n",
    "block_tweets_df = pd.read_sql_query(\"SELECT DISTINCT * from tweets\",conn)\n",
    "conn.close()"
   ]
  },
  {
   "cell_type": "code",
   "execution_count": 6,
   "metadata": {
    "collapsed": false
   },
   "outputs": [
    {
     "data": {
      "text/plain": [
       "(2248848, 6)"
      ]
     },
     "execution_count": 6,
     "metadata": {},
     "output_type": "execute_result"
    }
   ],
   "source": [
    "block_tweets_df.shape"
   ]
  },
  {
   "cell_type": "code",
   "execution_count": 7,
   "metadata": {
    "collapsed": false
   },
   "outputs": [],
   "source": [
    "# pull off no mention tweets\n",
    "block_nm_df = block_tweets_df[block_tweets_df['mentions']==\"[]\"]"
   ]
  },
  {
   "cell_type": "code",
   "execution_count": 8,
   "metadata": {
    "collapsed": false
   },
   "outputs": [],
   "source": [
    "# these are the troll candidates with mentions\n",
    "block_twts_mentn_df = block_tweets_df[block_tweets_df['mentions'] != \"[]\"]"
   ]
  },
  {
   "cell_type": "code",
   "execution_count": 9,
   "metadata": {
    "collapsed": true
   },
   "outputs": [],
   "source": [
    "def clean_mentions(mentions):\n",
    "    '''Turns the mentions field in twitter API json into a list of screen_names'''\n",
    "    mention_list = re.sub(r'[^\\x00-\\x7f]',r'',str(mentions))\n",
    "    mention_list = ast.literal_eval(mention_list)\n",
    "    mention_screen_names = []\n",
    "    for i in range(len(mention_list)):\n",
    "        mention_screen_names.append(mention_list[i]['screen_name'])\n",
    "    return mention_screen_names"
   ]
  },
  {
   "cell_type": "code",
   "execution_count": null,
   "metadata": {
    "collapsed": false
   },
   "outputs": [],
   "source": [
    "# get the mentions list clean on the whole dataframe\n",
    "block_twts_mentn_df['cleanMentions'] = block_twts_mentn_df['mentions'].apply(clean_mentions)\n",
    "\n",
    "# count up the mentions\n",
    "block_twts_mentn_df['mention_count']=block_twts_mentn_df['cleanMentions'].apply(len)\n"
   ]
  },
  {
   "cell_type": "code",
   "execution_count": 15,
   "metadata": {
    "collapsed": false
   },
   "outputs": [
    {
     "name": "stderr",
     "output_type": "stream",
     "text": [
      "/Users/angelavc/anaconda/envs/my_projects_env/lib/python3.6/site-packages/nltk/twitter/__init__.py:20: UserWarning: The twython library has not been installed. Some functionality from the twitter package will not be available.\n",
      "  warnings.warn(\"The twython library has not been installed. \"\n"
     ]
    }
   ],
   "source": [
    "# add in sentiment from Vader\n",
    "from nltk.sentiment.vader import SentimentIntensityAnalyzer\n",
    "analyzer = SentimentIntensityAnalyzer()\n",
    "\n",
    "def sentiment(sentence):\n",
    "    vs = analyzer.polarity_scores(sentence)\n",
    "    return vs"
   ]
  },
  {
   "cell_type": "code",
   "execution_count": null,
   "metadata": {
    "collapsed": false
   },
   "outputs": [],
   "source": [
    "# be sure the text of tweet is a string\n",
    "block_twts_mentn_df['tweet'] = block_twts_mentn_df['tweet'].astype('str')\n",
    "\n",
    "# then get the sentiment scores from Vader\n",
    "block_twts_mentn_df['sentiment'] = block_twts_mentn_df['tweet'].apply(sentiment)\n",
    "\n",
    "# Here we expand sentiment to 4 columns and then concatenate, deleting the original sentiment columns\n",
    "block_twts_mentn_df = pd.concat([block_twts_mentn_df.drop(['sentiment'], axis=1), block_twts_mentn_df['sentiment'].apply(pd.Series)], axis=1)\n"
   ]
  },
  {
   "cell_type": "code",
   "execution_count": null,
   "metadata": {
    "collapsed": false
   },
   "outputs": [],
   "source": [
    "#length of the mention lists from 'cleanMentions'\n",
    "lens = [len(list) for list in block_twts_mentn_df['cleanMentions']]"
   ]
  },
  {
   "cell_type": "code",
   "execution_count": null,
   "metadata": {
    "collapsed": false
   },
   "outputs": [],
   "source": [
    "# this is looking for \"you language\" in the tweets\n",
    "block_twts_mentn_df['contains_you']=block_twts_mentn_df['tweet'].str.contains('|'.join(you_forms))"
   ]
  },
  {
   "cell_type": "code",
   "execution_count": 310,
   "metadata": {
    "collapsed": false
   },
   "outputs": [
    {
     "data": {
      "text/plain": [
       "0.17657356646883063"
      ]
     },
     "execution_count": 310,
     "metadata": {},
     "output_type": "execute_result"
    }
   ],
   "source": [
    "# how prevalent is you language in those on blocked list?\n",
    "block_twts_mentn_df.contains_you.mean()"
   ]
  },
  {
   "cell_type": "code",
   "execution_count": 46,
   "metadata": {
    "collapsed": false
   },
   "outputs": [],
   "source": [
    "# Get the screen name and target\n",
    "block_twt_detail_df = pd.DataFrame( {\"screen_name\" : np.repeat(block_twts_mentn_df['screen_name'].values,lens), \n",
    "                                   \"tweet\" : np.repeat(block_twts_mentn_df['tweet'].values,lens),\n",
    "                                   \"tweet_id\" : np.repeat(block_twts_mentn_df['tweet_id'].values,lens),\n",
    "                                   \"created_at\" : np.repeat(block_twts_mentn_df['created_at'].values,lens),\n",
    "                                   \"troll\" : np.repeat(block_twts_mentn_df['troll'].values,lens), \n",
    "                                   \"compound\":np.repeat(block_twts_mentn_df['compound'].values,lens), \n",
    "                                   'neg': np.repeat(block_twts_mentn_df['neg'].values,lens), \n",
    "                                   'neu': np.repeat(block_twts_mentn_df['neu'].values,lens),\n",
    "                                   'pos': np.repeat(block_twts_mentn_df['pos'].values,lens),\n",
    "                                   'contains_you': np.repeat(block_twts_mentn_df['contains_you'].values,lens),\n",
    "                                   \"target\" : np.hstack(block_twts_mentn_df['cleanMentions'])\n",
    "              })"
   ]
  },
  {
   "cell_type": "code",
   "execution_count": 47,
   "metadata": {
    "collapsed": false
   },
   "outputs": [],
   "source": [
    "# aggregation functions -- need count of tweets from screen_name to target and average sentiment\n",
    "aggregations = {\n",
    "    'screen_name':'count',\n",
    "    'compound': 'mean',\n",
    "    'neg': 'mean', \n",
    "    'neu': 'mean',\n",
    "    'pos': 'mean',\n",
    "    'contains_you': 'count',\n",
    "    'tweet':'sum'\n",
    "}\n",
    "\n",
    "#group and aggregate\n",
    "block_twt_detail_df = block_twt_detail_df.groupby(['screen_name','target']).agg(aggregations)\n",
    "\n",
    "#fix all the names\n",
    "oldnames = ['screen_name', 'compound', 'neg', 'neu', 'pos', 'countains_you','tweet']\n",
    "newnames = ['target_count', 'compound', 'neg', 'neu', 'pos', 'contains_you','tweet']\n",
    "block_twt_detail_df.rename(columns=dict(zip(oldnames, newnames)), inplace=True)\n",
    "\n",
    "# reset the index to make it flat again\n",
    "block_twt_detail_df = block_twt_detail_df.reset_index()"
   ]
  },
  {
   "cell_type": "code",
   "execution_count": 313,
   "metadata": {
    "collapsed": true
   },
   "outputs": [],
   "source": [
    "# this is just the list of blocklisted folks\n",
    "trollist = block_twt_detail_df['screen_name'].unique()"
   ]
  },
  {
   "cell_type": "code",
   "execution_count": 314,
   "metadata": {
    "collapsed": false
   },
   "outputs": [
    {
     "data": {
      "text/plain": [
       "10302"
      ]
     },
     "execution_count": 314,
     "metadata": {},
     "output_type": "execute_result"
    }
   ],
   "source": [
    "len(trollist)"
   ]
  },
  {
   "cell_type": "markdown",
   "metadata": {},
   "source": [
    "# Trolling_df, defining what counts as trolling (you definition)"
   ]
  },
  {
   "cell_type": "markdown",
   "metadata": {},
   "source": [
    "My definition of trolling is that there must be at least two mentions of the same user, contain a form of the word you, and fairly negative (<-.3). All of these would be worth exploring and tweaking more. Particularly interested in extensions where I zero  in on hate speach."
   ]
  },
  {
   "cell_type": "code",
   "execution_count": 55,
   "metadata": {
    "collapsed": false
   },
   "outputs": [],
   "source": [
    "# restrict to just tweets containing \"you/your/etc\"\n",
    "block_twt_detail_df = block_twt_detail_df[block_twt_detail_df['tweet'].astype(str).str.contains('you')]\n",
    "\n",
    "# negative and two mentions\n",
    "trolling_df = block_twt_detail_df[(block_twt_detail_df['compound']<-.3) & (block_twt_detail2_df['target_count']>=2)].reset_index()"
   ]
  },
  {
   "cell_type": "code",
   "execution_count": 145,
   "metadata": {
    "collapsed": false,
    "scrolled": true
   },
   "outputs": [
    {
     "data": {
      "text/plain": [
       "4266"
      ]
     },
     "execution_count": 145,
     "metadata": {},
     "output_type": "execute_result"
    }
   ],
   "source": [
    "len(trolling_df['screen_name'].unique())"
   ]
  },
  {
   "cell_type": "code",
   "execution_count": 148,
   "metadata": {
    "collapsed": false
   },
   "outputs": [],
   "source": [
    "# pull all the tweets for a user together into one string\n",
    "block_tweets = trolling_df.groupby(['screen_name'])['tweet'].sum().reset_index()"
   ]
  },
  {
   "cell_type": "code",
   "execution_count": 149,
   "metadata": {
    "collapsed": false
   },
   "outputs": [
    {
     "data": {
      "text/plain": [
       "(4266, 2)"
      ]
     },
     "execution_count": 149,
     "metadata": {},
     "output_type": "execute_result"
    }
   ],
   "source": [
    "# these are the trolls\n",
    "block_tweets.shape"
   ]
  },
  {
   "cell_type": "code",
   "execution_count": 125,
   "metadata": {
    "collapsed": true
   },
   "outputs": [],
   "source": [
    "# these are the tweets with no mentions. these will be used by my model\n",
    "block_nm_twts = block_nm_df.groupby(['screen_name'])['tweet'].sum().reset_index()"
   ]
  },
  {
   "cell_type": "markdown",
   "metadata": {},
   "source": [
    "# Gathering and Processing nonTrolling Tweets"
   ]
  },
  {
   "cell_type": "code",
   "execution_count": 67,
   "metadata": {
    "collapsed": false
   },
   "outputs": [],
   "source": [
    "# tweets2 has the non-blocklist user tweets\n",
    "conn = sqlite3.connect('tweets2.db')\n",
    "c = conn.cursor()\n",
    "human_twts_df = pd.read_sql_query(\"Select * from tweets\",conn)\n",
    "conn.close()"
   ]
  },
  {
   "cell_type": "code",
   "execution_count": 326,
   "metadata": {
    "collapsed": false
   },
   "outputs": [
    {
     "data": {
      "text/plain": [
       "(1973748, 6)"
      ]
     },
     "execution_count": 326,
     "metadata": {},
     "output_type": "execute_result"
    }
   ],
   "source": [
    "human_twts_df.shape"
   ]
  },
  {
   "cell_type": "code",
   "execution_count": 68,
   "metadata": {
    "collapsed": false
   },
   "outputs": [],
   "source": [
    "# pull off no mentions\n",
    "human_nm_df = human_twts_df[human_twts_df['mentions']==\"[]\"]\n",
    "\n",
    "# these are the ones with mentions\n",
    "human_twts_ment_df = human_twts_df[human_twts_df['mentions'] != \"[]\"]"
   ]
  },
  {
   "cell_type": "code",
   "execution_count": 324,
   "metadata": {
    "collapsed": false
   },
   "outputs": [
    {
     "data": {
      "text/plain": [
       "10319"
      ]
     },
     "execution_count": 324,
     "metadata": {},
     "output_type": "execute_result"
    }
   ],
   "source": [
    "len(human_twts_df['screen_name'].unique())"
   ]
  },
  {
   "cell_type": "code",
   "execution_count": null,
   "metadata": {
    "collapsed": false
   },
   "outputs": [],
   "source": [
    "# there is sometime bad string in mentions field, so pull it out\n",
    "# then literal eval\n",
    "human_twts_ment_df['cleanMentions'] = human_twts_ment_df['mentions'].apply(clean_mentions)\n",
    "\n",
    "# count up the mentions\n",
    "human_twts_ment_df['mention_count']=human_twts_ment_df['cleanMentions'].apply(len)\n",
    "\n",
    "# be sure the text is a string\n",
    "human_twts_ment_df['tweet'] = human_twts_ment_df['tweet'].astype('str')\n",
    "\n",
    "# grab the sentiment fields\n",
    "human_twts_ment_df['sentiment'] = human_twts_ment_df['tweet'].apply(sentiment)\n",
    "\n",
    "# Here we expand sentiment to 4 columns and then concatenate, deleting the original sentiment columns\n",
    "human_twts_ment_df = pd.concat([human_twts_ment_df.drop(['sentiment'], axis=1), human_twts_ment_df['sentiment'].apply(pd.Series)], axis=1)\n"
   ]
  },
  {
   "cell_type": "code",
   "execution_count": 77,
   "metadata": {
    "collapsed": false
   },
   "outputs": [],
   "source": [
    "human_twts_ment_df['contains_you']=human_twts_ment_df['tweet'].str.contains('|'.join(you_forms))"
   ]
  },
  {
   "cell_type": "code",
   "execution_count": 78,
   "metadata": {
    "collapsed": true
   },
   "outputs": [],
   "source": [
    "#length of the mention lists from 'cleanMentions'\n",
    "lens = [len(list) for list \n",
    "        in human_twts_ment_df['cleanMentions']]\n"
   ]
  },
  {
   "cell_type": "code",
   "execution_count": 79,
   "metadata": {
    "collapsed": false
   },
   "outputs": [],
   "source": [
    "# Get the screen name and target\n",
    "human_twt_detail_df = pd.DataFrame( {\"screen_name\" : np.repeat(human_twts_ment_df['screen_name'].values,lens), \n",
    "                                   \"tweet\" : np.repeat(human_twts_ment_df['tweet'].values,lens),\n",
    "                                   \"tweet_id\" : np.repeat(human_twts_ment_df['tweet_id'].values,lens),\n",
    "                                   \"created_at\" : np.repeat(human_twts_ment_df['created_at'].values,lens),\n",
    "                                   \"troll\" : np.repeat(human_twts_ment_df['tweet_id'].values,lens),\n",
    "                                   'mention_count':np.repeat(human_twts_ment_df['mention_count'].values,lens) ,\n",
    "                                   'compound': np.repeat(human_twts_ment_df['compound'].values,lens),\n",
    "                                   'neg': np.repeat(human_twts_ment_df['neg'].values,lens),\n",
    "                                   'neu': np.repeat(human_twts_ment_df['neu'].values,lens),\n",
    "                                   'pos': np.repeat(human_twts_ment_df['pos'].values,lens),\n",
    "                                   'contains_you':np.repeat(human_twts_ment_df['contains_you'].values,lens),\n",
    "                                   \"target\" : np.hstack(human_twts_ment_df['cleanMentions'])\n",
    "              })"
   ]
  },
  {
   "cell_type": "code",
   "execution_count": 810,
   "metadata": {
    "collapsed": false
   },
   "outputs": [
    {
     "data": {
      "text/plain": [
       "(1913822, 11)"
      ]
     },
     "execution_count": 810,
     "metadata": {},
     "output_type": "execute_result"
    }
   ],
   "source": [
    "human_twt_detail_df.shape"
   ]
  },
  {
   "cell_type": "code",
   "execution_count": 80,
   "metadata": {
    "collapsed": false
   },
   "outputs": [],
   "source": [
    "# aggregation functions -- need count of tweets from screen_name to target and average sentiment\n",
    "aggregations = {\n",
    "    'screen_name':'count',\n",
    "    'compound': 'mean',\n",
    "    'neg': 'mean', \n",
    "    'neu': 'mean',\n",
    "    'pos': 'mean',\n",
    "    'tweet':'sum',\n",
    "    'contains_you':'count'\n",
    "}\n",
    "\n",
    "human_twt_detail_df = human_twt_detail_df.groupby(['screen_name','target']).agg(aggregations)\n",
    "\n",
    "oldnames = ['screen_name', 'compound', 'neg', 'neu', 'pos','contains_you','tweet']\n",
    "newnames = ['target_count', 'compound', 'neg', 'neu', 'pos', 'contains_you','tweet']\n",
    "\n",
    "human_twt_detail_df.rename(columns=dict(zip(oldnames, newnames)), inplace=True)\n",
    "\n",
    "human_twt_detail_df = human_twt_detail_df.reset_index()"
   ]
  },
  {
   "cell_type": "code",
   "execution_count": 81,
   "metadata": {
    "collapsed": false
   },
   "outputs": [
    {
     "data": {
      "text/plain": [
       "(916372, 7)"
      ]
     },
     "execution_count": 81,
     "metadata": {},
     "output_type": "execute_result"
    }
   ],
   "source": [
    "human_twt_detail_df.shape"
   ]
  },
  {
   "cell_type": "code",
   "execution_count": 320,
   "metadata": {
    "collapsed": false
   },
   "outputs": [
    {
     "data": {
      "text/plain": [
       "9592"
      ]
     },
     "execution_count": 320,
     "metadata": {},
     "output_type": "execute_result"
    }
   ],
   "source": [
    "len(human_twt_detail_df['screen_name'].unique())"
   ]
  },
  {
   "cell_type": "code",
   "execution_count": 83,
   "metadata": {
    "collapsed": true
   },
   "outputs": [],
   "source": [
    "# mark trolling behavior in human_twt_detail_df\n",
    "human_twt_detail_df.ix[(human_twt_detail_df['compound'] <= -.5)&(human_twt_detail_df['target_count'] >= 2)&(human_twt_detail_df['contains_you']==True), 'trolling']=1"
   ]
  },
  {
   "cell_type": "code",
   "execution_count": 87,
   "metadata": {
    "collapsed": false
   },
   "outputs": [
    {
     "data": {
      "text/html": [
       "<div>\n",
       "<table border=\"1\" class=\"dataframe\">\n",
       "  <thead>\n",
       "    <tr style=\"text-align: right;\">\n",
       "      <th></th>\n",
       "      <th>screen_name</th>\n",
       "      <th>target</th>\n",
       "      <th>target_count</th>\n",
       "      <th>compound</th>\n",
       "      <th>neg</th>\n",
       "      <th>neu</th>\n",
       "      <th>pos</th>\n",
       "      <th>tweet</th>\n",
       "      <th>contains_you</th>\n",
       "      <th>trolling</th>\n",
       "    </tr>\n",
       "  </thead>\n",
       "  <tbody>\n",
       "    <tr>\n",
       "      <th>0</th>\n",
       "      <td>000000000001110</td>\n",
       "      <td>333903271</td>\n",
       "      <td>1</td>\n",
       "      <td>0.000000</td>\n",
       "      <td>0.0000</td>\n",
       "      <td>1.00000</td>\n",
       "      <td>0.00000</td>\n",
       "      <td>RT @333903271: #IvankaTrump defends dad, says ...</td>\n",
       "      <td>1</td>\n",
       "      <td>NaN</td>\n",
       "    </tr>\n",
       "    <tr>\n",
       "      <th>1</th>\n",
       "      <td>000000000001110</td>\n",
       "      <td>adao0o</td>\n",
       "      <td>8</td>\n",
       "      <td>0.014287</td>\n",
       "      <td>0.0365</td>\n",
       "      <td>0.92950</td>\n",
       "      <td>0.03400</td>\n",
       "      <td>RT @adao0o: Liberta - Peps | French Pop |30544...</td>\n",
       "      <td>8</td>\n",
       "      <td>NaN</td>\n",
       "    </tr>\n",
       "    <tr>\n",
       "      <th>2</th>\n",
       "      <td>000000000001110</td>\n",
       "      <td>alannalux</td>\n",
       "      <td>2</td>\n",
       "      <td>-0.051350</td>\n",
       "      <td>0.0520</td>\n",
       "      <td>0.94800</td>\n",
       "      <td>0.00000</td>\n",
       "      <td>RT @alannalux: University professor: Physics h...</td>\n",
       "      <td>2</td>\n",
       "      <td>NaN</td>\n",
       "    </tr>\n",
       "    <tr>\n",
       "      <th>3</th>\n",
       "      <td>000000000001110</td>\n",
       "      <td>amyrightside</td>\n",
       "      <td>4</td>\n",
       "      <td>-0.048800</td>\n",
       "      <td>0.0765</td>\n",
       "      <td>0.87375</td>\n",
       "      <td>0.04975</td>\n",
       "      <td>RT @amyrightside: Stars Cut it Out at Grammy A...</td>\n",
       "      <td>4</td>\n",
       "      <td>NaN</td>\n",
       "    </tr>\n",
       "    <tr>\n",
       "      <th>4</th>\n",
       "      <td>000000000001110</td>\n",
       "      <td>annjoyxc</td>\n",
       "      <td>1</td>\n",
       "      <td>0.000000</td>\n",
       "      <td>0.0000</td>\n",
       "      <td>1.00000</td>\n",
       "      <td>0.00000</td>\n",
       "      <td>RT @annjoyxc: SpeakUP - learn UK english and A...</td>\n",
       "      <td>1</td>\n",
       "      <td>NaN</td>\n",
       "    </tr>\n",
       "  </tbody>\n",
       "</table>\n",
       "</div>"
      ],
      "text/plain": [
       "       screen_name        target  target_count  compound     neg      neu  \\\n",
       "0  000000000001110     333903271             1  0.000000  0.0000  1.00000   \n",
       "1  000000000001110        adao0o             8  0.014287  0.0365  0.92950   \n",
       "2  000000000001110     alannalux             2 -0.051350  0.0520  0.94800   \n",
       "3  000000000001110  amyrightside             4 -0.048800  0.0765  0.87375   \n",
       "4  000000000001110      annjoyxc             1  0.000000  0.0000  1.00000   \n",
       "\n",
       "       pos                                              tweet  contains_you  \\\n",
       "0  0.00000  RT @333903271: #IvankaTrump defends dad, says ...             1   \n",
       "1  0.03400  RT @adao0o: Liberta - Peps | French Pop |30544...             8   \n",
       "2  0.00000  RT @alannalux: University professor: Physics h...             2   \n",
       "3  0.04975  RT @amyrightside: Stars Cut it Out at Grammy A...             4   \n",
       "4  0.00000  RT @annjoyxc: SpeakUP - learn UK english and A...             1   \n",
       "\n",
       "   trolling  \n",
       "0       NaN  \n",
       "1       NaN  \n",
       "2       NaN  \n",
       "3       NaN  \n",
       "4       NaN  "
      ]
     },
     "execution_count": 87,
     "metadata": {},
     "output_type": "execute_result"
    }
   ],
   "source": [
    "human_twt_detail_df.head()"
   ]
  },
  {
   "cell_type": "code",
   "execution_count": 88,
   "metadata": {
    "collapsed": false
   },
   "outputs": [],
   "source": [
    "human_twt_detail_df=human_twt_detail_df.fillna(False)"
   ]
  },
  {
   "cell_type": "code",
   "execution_count": 752,
   "metadata": {
    "collapsed": false
   },
   "outputs": [],
   "source": [
    "# these users are not trolls\n",
    "human_twt_detail_df['troll']=0"
   ]
  },
  {
   "cell_type": "code",
   "execution_count": 104,
   "metadata": {
    "collapsed": true
   },
   "outputs": [],
   "source": [
    "# aggregation functions -- need count of tweets from screen_name to target and average sentiment\n",
    "aggregations2 = {\n",
    "    'compound': 'mean',\n",
    "    'neg': 'mean', \n",
    "    'neu': 'mean',\n",
    "    'pos': 'mean',\n",
    "    'tweet':'sum',\n",
    "    'contains_you':'count'\n",
    "}"
   ]
  },
  {
   "cell_type": "code",
   "execution_count": 105,
   "metadata": {
    "collapsed": false
   },
   "outputs": [],
   "source": [
    "notTrolls_df = human_twt_detail_df.groupby('screen_name').agg(aggregations2).reset_index()"
   ]
  },
  {
   "cell_type": "code",
   "execution_count": 91,
   "metadata": {
    "collapsed": false
   },
   "outputs": [],
   "source": [
    "# note that in this whole collection there are only 293 cases of trolling\n",
    "# these are the users not on block lists who, anyway, trolled\n",
    "humanTrolls_df = notTrolls_df[notTrolls_df['trolling']>0]"
   ]
  },
  {
   "cell_type": "code",
   "execution_count": 93,
   "metadata": {
    "collapsed": false
   },
   "outputs": [],
   "source": [
    "# just leave the non-trolling interactions\n",
    "notTrolls_df = notTrolls_df[notTrolls_df['trolling']==0]"
   ]
  },
  {
   "cell_type": "code",
   "execution_count": 94,
   "metadata": {
    "collapsed": false
   },
   "outputs": [
    {
     "data": {
      "text/plain": [
       "(9592, 8)"
      ]
     },
     "execution_count": 94,
     "metadata": {},
     "output_type": "execute_result"
    }
   ],
   "source": [
    "notTrolls_df.shape"
   ]
  },
  {
   "cell_type": "code",
   "execution_count": 132,
   "metadata": {
    "collapsed": true
   },
   "outputs": [],
   "source": [
    "# prepping the no mention tweets\n",
    "human_nmTweets = human_nm_df.groupby(['screen_name'])['tweet'].sum().reset_index()"
   ]
  },
  {
   "cell_type": "code",
   "execution_count": 95,
   "metadata": {
    "collapsed": false
   },
   "outputs": [],
   "source": [
    "# keeping these in a csv\n",
    "notTrolls_df.to_csv('nonTrollsJune21.csv',encoding='utf-8', header=True, index=False)"
   ]
  },
  {
   "cell_type": "markdown",
   "metadata": {},
   "source": [
    "# Prepping for Modeling"
   ]
  },
  {
   "cell_type": "code",
   "execution_count": 166,
   "metadata": {
    "collapsed": false
   },
   "outputs": [],
   "source": [
    "notTrolls_df['troll']=0"
   ]
  },
  {
   "cell_type": "code",
   "execution_count": 167,
   "metadata": {
    "collapsed": true
   },
   "outputs": [],
   "source": [
    "block_tweets['troll']=1"
   ]
  },
  {
   "cell_type": "code",
   "execution_count": null,
   "metadata": {
    "collapsed": true
   },
   "outputs": [],
   "source": [
    "# now have to take the users in these two dataframes and return the tweets without mentions"
   ]
  },
  {
   "cell_type": "code",
   "execution_count": 174,
   "metadata": {
    "collapsed": false
   },
   "outputs": [
    {
     "name": "stderr",
     "output_type": "stream",
     "text": [
      "/Users/angelavc/anaconda/envs/my_projects_env/lib/python3.6/site-packages/ipykernel/__main__.py:4: SettingWithCopyWarning: \n",
      "A value is trying to be set on a copy of a slice from a DataFrame.\n",
      "Try using .loc[row_indexer,col_indexer] = value instead\n",
      "\n",
      "See the caveats in the documentation: http://pandas.pydata.org/pandas-docs/stable/indexing.html#indexing-view-versus-copy\n"
     ]
    }
   ],
   "source": [
    "troll1 = block_nm_twts.set_index('screen_name').index\n",
    "troll2 = block_tweets.set_index('screen_name').index\n",
    "trolls_df = block_nm_twts[troll1.isin(troll2)]\n",
    "trolls_df['troll']=1"
   ]
  },
  {
   "cell_type": "code",
   "execution_count": 175,
   "metadata": {
    "collapsed": false
   },
   "outputs": [
    {
     "name": "stderr",
     "output_type": "stream",
     "text": [
      "/Users/angelavc/anaconda/envs/my_projects_env/lib/python3.6/site-packages/ipykernel/__main__.py:4: SettingWithCopyWarning: \n",
      "A value is trying to be set on a copy of a slice from a DataFrame.\n",
      "Try using .loc[row_indexer,col_indexer] = value instead\n",
      "\n",
      "See the caveats in the documentation: http://pandas.pydata.org/pandas-docs/stable/indexing.html#indexing-view-versus-copy\n"
     ]
    }
   ],
   "source": [
    "human1 = human_nmTweets.set_index('screen_name').index\n",
    "human2 = notTrolls_df.set_index('screen_name').index\n",
    "humans_df = human_nmTweets[human1.isin(human2)]\n",
    "humans_df['troll']=0"
   ]
  },
  {
   "cell_type": "code",
   "execution_count": 176,
   "metadata": {
    "collapsed": false
   },
   "outputs": [],
   "source": [
    "# want the same number of humans and non to keep classes balanced\n",
    "humans_df=humans_df.sample(4050)"
   ]
  },
  {
   "cell_type": "code",
   "execution_count": 253,
   "metadata": {
    "collapsed": false
   },
   "outputs": [],
   "source": [
    "#now combine the two\n",
    "users_df = humans_df.append(trolls_df)"
   ]
  },
  {
   "cell_type": "code",
   "execution_count": 178,
   "metadata": {
    "collapsed": false
   },
   "outputs": [
    {
     "data": {
      "text/plain": [
       "(8098, 3)"
      ]
     },
     "execution_count": 178,
     "metadata": {},
     "output_type": "execute_result"
    }
   ],
   "source": [
    "users_df.shape"
   ]
  },
  {
   "cell_type": "code",
   "execution_count": 179,
   "metadata": {
    "collapsed": false
   },
   "outputs": [],
   "source": [
    "users_df = users_df.reset_index()"
   ]
  },
  {
   "cell_type": "code",
   "execution_count": 255,
   "metadata": {
    "collapsed": false
   },
   "outputs": [
    {
     "data": {
      "text/html": [
       "<div>\n",
       "<table border=\"1\" class=\"dataframe\">\n",
       "  <thead>\n",
       "    <tr style=\"text-align: right;\">\n",
       "      <th></th>\n",
       "      <th>screen_name</th>\n",
       "      <th>tweet</th>\n",
       "      <th>troll</th>\n",
       "    </tr>\n",
       "  </thead>\n",
       "  <tbody>\n",
       "    <tr>\n",
       "      <th>2863</th>\n",
       "      <td>NadaBeloued</td>\n",
       "      <td>#4YEARSWITHBTS thank you for always being ther...</td>\n",
       "      <td>0</td>\n",
       "    </tr>\n",
       "    <tr>\n",
       "      <th>6950</th>\n",
       "      <td>katieagnew_</td>\n",
       "      <td>#NewProfilePic  don't know where I would be wi...</td>\n",
       "      <td>0</td>\n",
       "    </tr>\n",
       "    <tr>\n",
       "      <th>8312</th>\n",
       "      <td>rodneyd44</td>\n",
       "      <td>I just checked in at 24 Hour Fitness with #mPL...</td>\n",
       "      <td>0</td>\n",
       "    </tr>\n",
       "    <tr>\n",
       "      <th>4564</th>\n",
       "      <td>_datzhurrrrrr</td>\n",
       "      <td>✌✌✌✌✌✌✌✌✌✌  get excited about paying shit offT...</td>\n",
       "      <td>0</td>\n",
       "    </tr>\n",
       "    <tr>\n",
       "      <th>4826</th>\n",
       "      <td>amaan_vally</td>\n",
       "      <td>Just because you don't fit your own standard o...</td>\n",
       "      <td>0</td>\n",
       "    </tr>\n",
       "  </tbody>\n",
       "</table>\n",
       "</div>"
      ],
      "text/plain": [
       "        screen_name                                              tweet  troll\n",
       "2863    NadaBeloued  #4YEARSWITHBTS thank you for always being ther...      0\n",
       "6950    katieagnew_  #NewProfilePic  don't know where I would be wi...      0\n",
       "8312      rodneyd44  I just checked in at 24 Hour Fitness with #mPL...      0\n",
       "4564  _datzhurrrrrr  ✌✌✌✌✌✌✌✌✌✌  get excited about paying shit offT...      0\n",
       "4826    amaan_vally  Just because you don't fit your own standard o...      0"
      ]
     },
     "execution_count": 255,
     "metadata": {},
     "output_type": "execute_result"
    }
   ],
   "source": [
    "users_df.head()"
   ]
  },
  {
   "cell_type": "code",
   "execution_count": 254,
   "metadata": {
    "collapsed": false
   },
   "outputs": [],
   "source": [
    "# replace all urls with an empty string\n",
    "users_df['tweet'] = users_df['tweet'].apply(lambda x: re.sub(r\"http\\S+\", \"\", x))"
   ]
  },
  {
   "cell_type": "code",
   "execution_count": 1223,
   "metadata": {
    "collapsed": true
   },
   "outputs": [],
   "source": [
    "# output dataset I used for original analysis\n",
    "users_df.to_csv('users_df_June20.csv',encoding='utf-8', header=True, index=False)"
   ]
  },
  {
   "cell_type": "code",
   "execution_count": 182,
   "metadata": {
    "collapsed": true
   },
   "outputs": [],
   "source": [
    "from sklearn import preprocessing\n",
    "from sklearn.feature_extraction.text import TfidfVectorizer"
   ]
  },
  {
   "cell_type": "code",
   "execution_count": 183,
   "metadata": {
    "collapsed": false
   },
   "outputs": [
    {
     "name": "stderr",
     "output_type": "stream",
     "text": [
      "/Users/angelavc/anaconda/envs/my_projects_env/lib/python3.6/site-packages/sklearn/cross_validation.py:44: DeprecationWarning: This module was deprecated in version 0.18 in favor of the model_selection module into which all the refactored classes and functions are moved. Also note that the interface of the new CV iterators are different from that of this module. This module will be removed in 0.20.\n",
      "  \"This module will be removed in 0.20.\", DeprecationWarning)\n"
     ]
    }
   ],
   "source": [
    "from patsy import dmatrices\n",
    "from sklearn.linear_model import LogisticRegression\n",
    "from sklearn.cross_validation import train_test_split\n",
    "from sklearn import metrics\n",
    "from sklearn.cross_validation import cross_val_score"
   ]
  },
  {
   "cell_type": "code",
   "execution_count": 271,
   "metadata": {
    "collapsed": false
   },
   "outputs": [],
   "source": [
    "# split users into test and train\n",
    "\n",
    "X_train, X_test, y_train, y_test = train_test_split(users_df, users_df['troll'],test_size=0.3, random_state=21)\n"
   ]
  },
  {
   "cell_type": "code",
   "execution_count": 185,
   "metadata": {
    "collapsed": false
   },
   "outputs": [],
   "source": [
    "# cleanup tweet text\n",
    "def clean_tweet(tweet):\n",
    "        return ' '.join(re.sub(\"(@[A-Za-z0-9]+)|([^0-9A-Za-z \\t])|(\\w+:\\/\\/\\S+)\", \" \", tweet).split())"
   ]
  },
  {
   "cell_type": "code",
   "execution_count": 186,
   "metadata": {
    "collapsed": false
   },
   "outputs": [
    {
     "data": {
      "text/plain": [
       "'RT gambler panty maid stocking bonus christmas panty parellel world fallen angel and Chocolate in one scoop Yes please AlproIceCream Flippers Space Trucker wait for Splatoon 2 I m loving the Nintendo Switch so far there s still so much stuff I wanna get for it RT gambler panty maid stocking bonus christmas panty parellel world fallen angel and Chocolate in one scoop Yes please AlproIceCream Flippers Space Trucker wait for Splatoon 2 I m loving the Nintendo Switch so far there s still so much stuff I wanna get for it'"
      ]
     },
     "execution_count": 186,
     "metadata": {},
     "output_type": "execute_result"
    }
   ],
   "source": [
    "# First do some preprocessing using above function, eg.\n",
    "clean_tweet(users_df['tweet'].iloc[374])"
   ]
  },
  {
   "cell_type": "code",
   "execution_count": 256,
   "metadata": {
    "collapsed": false
   },
   "outputs": [],
   "source": [
    "# implement on all the rows\n",
    "users_df['tweet'] = users_df['tweet'].apply(clean_tweet)"
   ]
  },
  {
   "cell_type": "code",
   "execution_count": 257,
   "metadata": {
    "collapsed": false
   },
   "outputs": [],
   "source": [
    "users_df['tweet'] = users_df['tweet'].str.lower()"
   ]
  },
  {
   "cell_type": "markdown",
   "metadata": {},
   "source": [
    "# Model: Logistic Regression on User Features"
   ]
  },
  {
   "cell_type": "code",
   "execution_count": 574,
   "metadata": {
    "collapsed": false
   },
   "outputs": [],
   "source": [
    "processed_df = pd.DataFrame(preprocessing.scale(users_df[['favourites_count', 'followers_count',\n",
    "       'listed_count', 'accountAge', 'friends_count', 'statuses_count',\n",
    "       'compound','proba_troll','troll']]), columns = ['favourites_count', 'followers_count',\n",
    "       'listed_count', 'accountAge', 'friends_count', 'statuses_count',\n",
    "       'compound','proba_troll','troll'])"
   ]
  },
  {
   "cell_type": "code",
   "execution_count": 1156,
   "metadata": {
    "collapsed": false
   },
   "outputs": [
    {
     "data": {
      "text/html": [
       "<div>\n",
       "<table border=\"1\" class=\"dataframe\">\n",
       "  <thead>\n",
       "    <tr style=\"text-align: right;\">\n",
       "      <th></th>\n",
       "      <th>favourites_count</th>\n",
       "      <th>followers_count</th>\n",
       "      <th>listed_count</th>\n",
       "      <th>accountAge</th>\n",
       "      <th>friends_count</th>\n",
       "      <th>statuses_count</th>\n",
       "      <th>compound</th>\n",
       "      <th>proba_troll</th>\n",
       "      <th>troll</th>\n",
       "    </tr>\n",
       "  </thead>\n",
       "  <tbody>\n",
       "    <tr>\n",
       "      <th>0</th>\n",
       "      <td>-0.338646</td>\n",
       "      <td>-0.058700</td>\n",
       "      <td>-0.130241</td>\n",
       "      <td>0.226147</td>\n",
       "      <td>-0.181849</td>\n",
       "      <td>-0.343597</td>\n",
       "      <td>-0.314447</td>\n",
       "      <td>-0.603062</td>\n",
       "      <td>1.0</td>\n",
       "    </tr>\n",
       "    <tr>\n",
       "      <th>1</th>\n",
       "      <td>-0.231706</td>\n",
       "      <td>-0.057616</td>\n",
       "      <td>-0.102409</td>\n",
       "      <td>-1.293827</td>\n",
       "      <td>-0.083737</td>\n",
       "      <td>-0.246192</td>\n",
       "      <td>0.405395</td>\n",
       "      <td>1.306509</td>\n",
       "      <td>1.0</td>\n",
       "    </tr>\n",
       "    <tr>\n",
       "      <th>2</th>\n",
       "      <td>-0.441440</td>\n",
       "      <td>-0.054911</td>\n",
       "      <td>-0.075787</td>\n",
       "      <td>0.139661</td>\n",
       "      <td>0.046201</td>\n",
       "      <td>-0.365362</td>\n",
       "      <td>-1.320435</td>\n",
       "      <td>0.411398</td>\n",
       "      <td>1.0</td>\n",
       "    </tr>\n",
       "    <tr>\n",
       "      <th>3</th>\n",
       "      <td>-0.373459</td>\n",
       "      <td>-0.042270</td>\n",
       "      <td>-0.049165</td>\n",
       "      <td>1.530403</td>\n",
       "      <td>-0.179871</td>\n",
       "      <td>-0.175318</td>\n",
       "      <td>-1.335454</td>\n",
       "      <td>0.232375</td>\n",
       "      <td>1.0</td>\n",
       "    </tr>\n",
       "    <tr>\n",
       "      <th>4</th>\n",
       "      <td>-0.456734</td>\n",
       "      <td>-0.060681</td>\n",
       "      <td>-0.124190</td>\n",
       "      <td>-0.822625</td>\n",
       "      <td>-0.258031</td>\n",
       "      <td>-0.219886</td>\n",
       "      <td>-0.314447</td>\n",
       "      <td>1.545205</td>\n",
       "      <td>1.0</td>\n",
       "    </tr>\n",
       "  </tbody>\n",
       "</table>\n",
       "</div>"
      ],
      "text/plain": [
       "   favourites_count  followers_count  listed_count  accountAge  friends_count  \\\n",
       "0         -0.338646        -0.058700     -0.130241    0.226147      -0.181849   \n",
       "1         -0.231706        -0.057616     -0.102409   -1.293827      -0.083737   \n",
       "2         -0.441440        -0.054911     -0.075787    0.139661       0.046201   \n",
       "3         -0.373459        -0.042270     -0.049165    1.530403      -0.179871   \n",
       "4         -0.456734        -0.060681     -0.124190   -0.822625      -0.258031   \n",
       "\n",
       "   statuses_count  compound  proba_troll  troll  \n",
       "0       -0.343597 -0.314447    -0.603062    1.0  \n",
       "1       -0.246192  0.405395     1.306509    1.0  \n",
       "2       -0.365362 -1.320435     0.411398    1.0  \n",
       "3       -0.175318 -1.335454     0.232375    1.0  \n",
       "4       -0.219886 -0.314447     1.545205    1.0  "
      ]
     },
     "execution_count": 1156,
     "metadata": {},
     "output_type": "execute_result"
    }
   ],
   "source": [
    "processed_df.head()"
   ]
  },
  {
   "cell_type": "code",
   "execution_count": 373,
   "metadata": {
    "collapsed": false
   },
   "outputs": [
    {
     "name": "stderr",
     "output_type": "stream",
     "text": [
      "/Users/angelavc/anaconda/envs/my_projects_env/lib/python3.6/site-packages/sklearn/cross_validation.py:44: DeprecationWarning: This module was deprecated in version 0.18 in favor of the model_selection module into which all the refactored classes and functions are moved. Also note that the interface of the new CV iterators are different from that of this module. This module will be removed in 0.20.\n",
      "  \"This module will be removed in 0.20.\", DeprecationWarning)\n"
     ]
    }
   ],
   "source": [
    "from patsy import dmatrices\n",
    "from sklearn.linear_model import LogisticRegression\n",
    "from sklearn.cross_validation import train_test_split\n",
    "from sklearn import metrics\n",
    "from sklearn.cross_validation import cross_val_score"
   ]
  },
  {
   "cell_type": "code",
   "execution_count": 585,
   "metadata": {
    "collapsed": false
   },
   "outputs": [],
   "source": [
    "y, X = dmatrices('troll ~ favourites_count + followers_count + listed_count + accountAge + friends_count +\\\n",
    "                  statuses_count + compound + proba_troll',processed_df, return_type=\"dataframe\")"
   ]
  },
  {
   "cell_type": "code",
   "execution_count": 586,
   "metadata": {
    "collapsed": true
   },
   "outputs": [],
   "source": [
    "# flatten y into 1-D\n",
    "y = np.ravel(y)"
   ]
  },
  {
   "cell_type": "code",
   "execution_count": 587,
   "metadata": {
    "collapsed": false
   },
   "outputs": [
    {
     "data": {
      "text/plain": [
       "LogisticRegression(C=1.0, class_weight=None, dual=False, fit_intercept=True,\n",
       "          intercept_scaling=1, max_iter=100, multi_class='ovr', n_jobs=1,\n",
       "          penalty='l2', random_state=None, solver='liblinear', tol=0.0001,\n",
       "          verbose=0, warm_start=False)"
      ]
     },
     "execution_count": 587,
     "metadata": {},
     "output_type": "execute_result"
    }
   ],
   "source": [
    "# evaluate the model by splitting into train and test sets\n",
    "X_train, X_test, y_train, y_test = train_test_split(X, y, test_size=0.3, random_state=123)\n",
    "model3 = LogisticRegression()\n",
    "model3.fit(X_train, y_train)"
   ]
  },
  {
   "cell_type": "code",
   "execution_count": 588,
   "metadata": {
    "collapsed": false
   },
   "outputs": [],
   "source": [
    "# predict class labels for the test set\n",
    "predicted = model3.predict(X_test)"
   ]
  },
  {
   "cell_type": "code",
   "execution_count": 589,
   "metadata": {
    "collapsed": false
   },
   "outputs": [],
   "source": [
    "# generate class probabilities\n",
    "probs = model3.predict_proba(X_test)"
   ]
  },
  {
   "cell_type": "code",
   "execution_count": 590,
   "metadata": {
    "collapsed": false
   },
   "outputs": [
    {
     "name": "stdout",
     "output_type": "stream",
     "text": [
      "0.740890688259\n",
      "0.791486291486\n"
     ]
    }
   ],
   "source": [
    "# generate evaluation metrics\n",
    "print(metrics.accuracy_score(y_test, predicted))\n",
    "print(metrics.roc_auc_score(y_test, probs[:, 1]))"
   ]
  },
  {
   "cell_type": "code",
   "execution_count": 591,
   "metadata": {
    "collapsed": false
   },
   "outputs": [
    {
     "data": {
      "text/plain": [
       "{'Intercept': -0.012849482167810984,\n",
       " 'accountAge': 0.11860937918407662,\n",
       " 'compound': -0.046373583211742279,\n",
       " 'favourites_count': 0.013537796011101904,\n",
       " 'followers_count': -8.1701830791855445e-05,\n",
       " 'friends_count': -0.3624522127076989,\n",
       " 'listed_count': 0.14081901145683404,\n",
       " 'proba_troll': 1.3966299255493115,\n",
       " 'statuses_count': -0.42128821807425915}"
      ]
     },
     "execution_count": 591,
     "metadata": {},
     "output_type": "execute_result"
    }
   ],
   "source": [
    "# look at the model\n",
    "# examine the coefficients\n",
    "dict(zip(X.columns.values.T, np.ravel(model3.coef_.T)))"
   ]
  },
  {
   "cell_type": "code",
   "execution_count": 582,
   "metadata": {
    "collapsed": false,
    "scrolled": false
   },
   "outputs": [
    {
     "name": "stdout",
     "output_type": "stream",
     "text": [
      "             precision    recall  f1-score   support\n",
      "\n",
      "       -1.0       0.58      0.38      0.46       126\n",
      "        1.0       0.52      0.71      0.60       121\n",
      "\n",
      "avg / total       0.55      0.54      0.53       247\n",
      "\n"
     ]
    }
   ],
   "source": [
    "print(metrics.classification_report(y_test, predicted))"
   ]
  },
  {
   "cell_type": "markdown",
   "metadata": {},
   "source": [
    "# Model: Logistic Regression on Bag of Words"
   ]
  },
  {
   "cell_type": "code",
   "execution_count": 352,
   "metadata": {
    "collapsed": true
   },
   "outputs": [],
   "source": [
    "def words(text_block):\n",
    "    return re.sub(\"[^\\w]\", \" \",  text_block).split()\n",
    "\n",
    "def word_feats(words):\n",
    "    return dict([(word, True) for word in words])"
   ]
  },
  {
   "cell_type": "code",
   "execution_count": 376,
   "metadata": {
    "collapsed": true
   },
   "outputs": [],
   "source": [
    "def merge_dicts(dict1,dict2):\n",
    "    result = {}\n",
    "    result.update(dict1)\n",
    "    result.update(dict2)\n",
    "    return result"
   ]
  },
  {
   "cell_type": "code",
   "execution_count": 388,
   "metadata": {
    "collapsed": false
   },
   "outputs": [],
   "source": [
    "import collections\n",
    "import nltk.classify.util, nltk.metrics\n",
    "\n",
    "\n",
    " \n",
    "\n",
    "\n",
    "X_troll = X_train[X_train['troll']==1]\n",
    "X_human = X_train[X_train['troll']==0]\n",
    "\n",
    "def evaluate_classifier(featx,X_troll,X_human):\n",
    "    tr_feats = X_troll.tweet.apply(words).apply(featx)\n",
    "    hu_feats = X_human.tweet.apply(words).apply(featx)\n",
    " \n",
    "    negcutoff = int(math.ceil(len(hu_feats)*3/4))\n",
    "    poscutoff = int(math.ceil(len(tr_feats)*3/4))\n",
    "    \n",
    "    trainfeats = merge_dicts(hu_feats[:negcutoff],tr_feats[:poscutoff])\n",
    "    testfeats = merge_dicts(hu_feats[negcutoff:],tr_feats[poscutoff:])\n",
    " \n",
    "    classifier = LogisticRegression().fit(trainfeats,y_train)\n",
    "    refsets = collections.defaultdict(set)\n",
    "    testsets = collections.defaultdict(set)\n",
    " \n",
    "    for i, (feats, label) in enumerate(testfeats):\n",
    "            refsets[label].add(i)\n",
    "            observed = classifier.classify(feats)\n",
    "            testsets[observed].add(i)\n",
    " \n",
    "    print('accuracy: '+nltk.classify.util.accuracy(classifier, testfeats))\n",
    "    print('pos precision: '+nltk.metrics.precision(refsets['pos'], testsets['pos']))\n",
    "    print( 'pos recall:' + nltk.metrics.recall(refsets['pos'], testsets['pos']))\n",
    "    print ('neg precision:'+ nltk.metrics.precision(refsets['neg'], testsets['neg']))\n",
    "    print ('neg recall:'+ nltk.metrics.recall(refsets['neg'], testsets['neg']))\n",
    "    classifier.show_most_informative_features()"
   ]
  },
  {
   "cell_type": "code",
   "execution_count": 353,
   "metadata": {
    "collapsed": false
   },
   "outputs": [
    {
     "data": {
      "text/plain": [
       "{'asdf': True, 'asdfasdf': True, 'asfasdf': True}"
      ]
     },
     "execution_count": 353,
     "metadata": {},
     "output_type": "execute_result"
    }
   ],
   "source": [
    "word_feats(['asdfasdf','asfasdf','asdf'])"
   ]
  },
  {
   "cell_type": "code",
   "execution_count": 336,
   "metadata": {
    "collapsed": true
   },
   "outputs": [],
   "source": [
    "import itertools\n",
    "from nltk.collocations import BigramCollocationFinder\n",
    "from nltk.metrics import BigramAssocMeasures\n",
    " \n",
    "def bigram_word_feats(words, score_fn=BigramAssocMeasures.chi_sq, n=200):\n",
    "    bigram_finder = BigramCollocationFinder.from_words(words)\n",
    "    bigrams = bigram_finder.nbest(score_fn, n)\n",
    "    return dict([(ngram, True) for ngram in itertools.chain(words, bigrams)])"
   ]
  },
  {
   "cell_type": "code",
   "execution_count": null,
   "metadata": {
    "collapsed": true
   },
   "outputs": [],
   "source": [
    "from nltk.corpus import stopwords\n",
    "stopset = set(stopwords.words('english'))\n",
    " \n",
    "def stopword_filtered_word_feats(words):\n",
    "    return dict([(word, True) for word in words if word not in stopset])\n",
    " \n",
    "evaluate_classifier(stopword_filtered_word_feats)"
   ]
  },
  {
   "cell_type": "code",
   "execution_count": null,
   "metadata": {
    "collapsed": true
   },
   "outputs": [],
   "source": [
    "evaluate_classifier(bigram_word_feats)"
   ]
  },
  {
   "cell_type": "code",
   "execution_count": 474,
   "metadata": {
    "collapsed": true
   },
   "outputs": [],
   "source": [
    "vectorizer = TfidfVectorizer( max_features = 10000, ngram_range=(1,2), stop_words=stopwords, sublinear_tf=True )\n",
    "X_train_vectorized = vectorizer.fit_transform(X_train['tweet']).toarray()"
   ]
  },
  {
   "cell_type": "code",
   "execution_count": 475,
   "metadata": {
    "collapsed": false
   },
   "outputs": [],
   "source": [
    "LR = LogisticRegression().fit(X_train_vectorized, y_train )\n"
   ]
  },
  {
   "cell_type": "code",
   "execution_count": 476,
   "metadata": {
    "collapsed": false
   },
   "outputs": [],
   "source": [
    "X_test_vectorized = vectorizer.transform(X_test['tweet']).toarray()"
   ]
  },
  {
   "cell_type": "code",
   "execution_count": 477,
   "metadata": {
    "collapsed": false
   },
   "outputs": [],
   "source": [
    "# predict class labels for the test set\n",
    "predicted = LR.predict(X_test_vectorized)"
   ]
  },
  {
   "cell_type": "code",
   "execution_count": 282,
   "metadata": {
    "collapsed": false
   },
   "outputs": [],
   "source": [
    "probs = LR.predict_proba(X_test_vectorized)"
   ]
  },
  {
   "cell_type": "code",
   "execution_count": 478,
   "metadata": {
    "collapsed": false
   },
   "outputs": [
    {
     "name": "stdout",
     "output_type": "stream",
     "text": [
      "0.79012345679\n",
      "0.849196482378\n"
     ]
    }
   ],
   "source": [
    "# generate evaluation metrics\n",
    "print(metrics.accuracy_score(y_test, predicted))\n",
    "print(metrics.roc_auc_score(y_test, probs[:, 1]))"
   ]
  },
  {
   "cell_type": "code",
   "execution_count": 334,
   "metadata": {
    "collapsed": true
   },
   "outputs": [],
   "source": [
    "from sklearn.metrics import confusion_matrix"
   ]
  },
  {
   "cell_type": "code",
   "execution_count": 479,
   "metadata": {
    "collapsed": false
   },
   "outputs": [
    {
     "data": {
      "text/plain": [
       "array([[1018,  229],\n",
       "       [ 281,  902]])"
      ]
     },
     "execution_count": 479,
     "metadata": {},
     "output_type": "execute_result"
    }
   ],
   "source": [
    "confusion_matrix(y_test, predicted)"
   ]
  },
  {
   "cell_type": "code",
   "execution_count": 480,
   "metadata": {
    "collapsed": false,
    "scrolled": false
   },
   "outputs": [
    {
     "name": "stdout",
     "output_type": "stream",
     "text": [
      "             precision    recall  f1-score   support\n",
      "\n",
      "          0       0.78      0.82      0.80      1247\n",
      "          1       0.80      0.76      0.78      1183\n",
      "\n",
      "avg / total       0.79      0.79      0.79      2430\n",
      "\n"
     ]
    }
   ],
   "source": [
    "print(metrics.classification_report(y_test, predicted))"
   ]
  },
  {
   "cell_type": "code",
   "execution_count": 447,
   "metadata": {
    "collapsed": true
   },
   "outputs": [],
   "source": [
    "# vocab = feature names\n",
    "vocab = vectorizer.get_feature_names()"
   ]
  },
  {
   "cell_type": "code",
   "execution_count": 449,
   "metadata": {
    "collapsed": false
   },
   "outputs": [],
   "source": [
    "imp_df = pd.DataFrame({'features':vocab,'coeff':LR.coef_.flatten()}).sort_values('coeff')"
   ]
  },
  {
   "cell_type": "code",
   "execution_count": 432,
   "metadata": {
    "collapsed": false
   },
   "outputs": [],
   "source": [
    "stopwords = list(stopwords)"
   ]
  },
  {
   "cell_type": "code",
   "execution_count": 455,
   "metadata": {
    "collapsed": false
   },
   "outputs": [
    {
     "data": {
      "text/html": [
       "<div>\n",
       "<table border=\"1\" class=\"dataframe\">\n",
       "  <thead>\n",
       "    <tr style=\"text-align: right;\">\n",
       "      <th></th>\n",
       "      <th>coeff</th>\n",
       "      <th>features</th>\n",
       "    </tr>\n",
       "  </thead>\n",
       "  <tbody>\n",
       "    <tr>\n",
       "      <th>4815</th>\n",
       "      <td>1.301189</td>\n",
       "      <td>we</td>\n",
       "    </tr>\n",
       "    <tr>\n",
       "      <th>1583</th>\n",
       "      <td>1.305700</td>\n",
       "      <td>fathers</td>\n",
       "    </tr>\n",
       "    <tr>\n",
       "      <th>4741</th>\n",
       "      <td>1.318977</td>\n",
       "      <td>violence</td>\n",
       "    </tr>\n",
       "    <tr>\n",
       "      <th>216</th>\n",
       "      <td>1.322189</td>\n",
       "      <td>america</td>\n",
       "    </tr>\n",
       "    <tr>\n",
       "      <th>1156</th>\n",
       "      <td>1.323449</td>\n",
       "      <td>democrats</td>\n",
       "    </tr>\n",
       "    <tr>\n",
       "      <th>2499</th>\n",
       "      <td>1.330879</td>\n",
       "      <td>left</td>\n",
       "    </tr>\n",
       "    <tr>\n",
       "      <th>2932</th>\n",
       "      <td>1.341103</td>\n",
       "      <td>muslims</td>\n",
       "    </tr>\n",
       "    <tr>\n",
       "      <th>2265</th>\n",
       "      <td>1.349357</td>\n",
       "      <td>islam</td>\n",
       "    </tr>\n",
       "    <tr>\n",
       "      <th>1743</th>\n",
       "      <td>1.351207</td>\n",
       "      <td>fuck</td>\n",
       "    </tr>\n",
       "    <tr>\n",
       "      <th>221</th>\n",
       "      <td>1.361833</td>\n",
       "      <td>americans</td>\n",
       "    </tr>\n",
       "    <tr>\n",
       "      <th>1006</th>\n",
       "      <td>1.406453</td>\n",
       "      <td>covfefe</td>\n",
       "    </tr>\n",
       "    <tr>\n",
       "      <th>2547</th>\n",
       "      <td>1.421034</td>\n",
       "      <td>libs</td>\n",
       "    </tr>\n",
       "    <tr>\n",
       "      <th>2693</th>\n",
       "      <td>1.427542</td>\n",
       "      <td>maga</td>\n",
       "    </tr>\n",
       "    <tr>\n",
       "      <th>3124</th>\n",
       "      <td>1.434866</td>\n",
       "      <td>obama</td>\n",
       "    </tr>\n",
       "    <tr>\n",
       "      <th>3200</th>\n",
       "      <td>1.443148</td>\n",
       "      <td>our</td>\n",
       "    </tr>\n",
       "    <tr>\n",
       "      <th>251</th>\n",
       "      <td>1.457341</td>\n",
       "      <td>anonymous</td>\n",
       "    </tr>\n",
       "    <tr>\n",
       "      <th>4557</th>\n",
       "      <td>1.462503</td>\n",
       "      <td>trans</td>\n",
       "    </tr>\n",
       "    <tr>\n",
       "      <th>258</th>\n",
       "      <td>1.467082</td>\n",
       "      <td>antifa</td>\n",
       "    </tr>\n",
       "    <tr>\n",
       "      <th>3416</th>\n",
       "      <td>1.493437</td>\n",
       "      <td>political</td>\n",
       "    </tr>\n",
       "    <tr>\n",
       "      <th>2794</th>\n",
       "      <td>1.592438</td>\n",
       "      <td>men</td>\n",
       "    </tr>\n",
       "    <tr>\n",
       "      <th>1582</th>\n",
       "      <td>1.635067</td>\n",
       "      <td>father day</td>\n",
       "    </tr>\n",
       "    <tr>\n",
       "      <th>4913</th>\n",
       "      <td>1.687534</td>\n",
       "      <td>women</td>\n",
       "    </tr>\n",
       "    <tr>\n",
       "      <th>3603</th>\n",
       "      <td>1.730873</td>\n",
       "      <td>racist</td>\n",
       "    </tr>\n",
       "    <tr>\n",
       "      <th>3473</th>\n",
       "      <td>1.736402</td>\n",
       "      <td>president</td>\n",
       "    </tr>\n",
       "    <tr>\n",
       "      <th>343</th>\n",
       "      <td>1.756521</td>\n",
       "      <td>attack</td>\n",
       "    </tr>\n",
       "    <tr>\n",
       "      <th>4631</th>\n",
       "      <td>2.373238</td>\n",
       "      <td>twitter</td>\n",
       "    </tr>\n",
       "    <tr>\n",
       "      <th>4591</th>\n",
       "      <td>2.435195</td>\n",
       "      <td>trump</td>\n",
       "    </tr>\n",
       "    <tr>\n",
       "      <th>4862</th>\n",
       "      <td>2.447483</td>\n",
       "      <td>white</td>\n",
       "    </tr>\n",
       "    <tr>\n",
       "      <th>2539</th>\n",
       "      <td>2.510357</td>\n",
       "      <td>liberal</td>\n",
       "    </tr>\n",
       "    <tr>\n",
       "      <th>1768</th>\n",
       "      <td>2.862853</td>\n",
       "      <td>gamergate</td>\n",
       "    </tr>\n",
       "  </tbody>\n",
       "</table>\n",
       "</div>"
      ],
      "text/plain": [
       "         coeff    features\n",
       "4815  1.301189          we\n",
       "1583  1.305700     fathers\n",
       "4741  1.318977    violence\n",
       "216   1.322189     america\n",
       "1156  1.323449   democrats\n",
       "2499  1.330879        left\n",
       "2932  1.341103     muslims\n",
       "2265  1.349357       islam\n",
       "1743  1.351207        fuck\n",
       "221   1.361833   americans\n",
       "1006  1.406453     covfefe\n",
       "2547  1.421034        libs\n",
       "2693  1.427542        maga\n",
       "3124  1.434866       obama\n",
       "3200  1.443148         our\n",
       "251   1.457341   anonymous\n",
       "4557  1.462503       trans\n",
       "258   1.467082      antifa\n",
       "3416  1.493437   political\n",
       "2794  1.592438         men\n",
       "1582  1.635067  father day\n",
       "4913  1.687534       women\n",
       "3603  1.730873      racist\n",
       "3473  1.736402   president\n",
       "343   1.756521      attack\n",
       "4631  2.373238     twitter\n",
       "4591  2.435195       trump\n",
       "4862  2.447483       white\n",
       "2539  2.510357     liberal\n",
       "1768  2.862853   gamergate"
      ]
     },
     "execution_count": 455,
     "metadata": {},
     "output_type": "execute_result"
    }
   ],
   "source": [
    "imp_df[imp_df['coeff']>1.3]"
   ]
  },
  {
   "cell_type": "code",
   "execution_count": 461,
   "metadata": {
    "collapsed": false
   },
   "outputs": [
    {
     "data": {
      "text/html": [
       "<div>\n",
       "<table border=\"1\" class=\"dataframe\">\n",
       "  <thead>\n",
       "    <tr style=\"text-align: right;\">\n",
       "      <th></th>\n",
       "      <th>coeff</th>\n",
       "      <th>features</th>\n",
       "    </tr>\n",
       "  </thead>\n",
       "  <tbody>\n",
       "    <tr>\n",
       "      <th>2662</th>\n",
       "      <td>-2.530111</td>\n",
       "      <td>love</td>\n",
       "    </tr>\n",
       "    <tr>\n",
       "      <th>2936</th>\n",
       "      <td>-2.107242</td>\n",
       "      <td>my</td>\n",
       "    </tr>\n",
       "    <tr>\n",
       "      <th>3583</th>\n",
       "      <td>-2.059536</td>\n",
       "      <td>que</td>\n",
       "    </tr>\n",
       "    <tr>\n",
       "      <th>618</th>\n",
       "      <td>-1.739444</td>\n",
       "      <td>bts</td>\n",
       "    </tr>\n",
       "    <tr>\n",
       "      <th>3072</th>\n",
       "      <td>-1.669188</td>\n",
       "      <td>night</td>\n",
       "    </tr>\n",
       "    <tr>\n",
       "      <th>4289</th>\n",
       "      <td>-1.645718</td>\n",
       "      <td>summer</td>\n",
       "    </tr>\n",
       "    <tr>\n",
       "      <th>30</th>\n",
       "      <td>-1.591494</td>\n",
       "      <td>2017</td>\n",
       "    </tr>\n",
       "    <tr>\n",
       "      <th>176</th>\n",
       "      <td>-1.441788</td>\n",
       "      <td>ain</td>\n",
       "    </tr>\n",
       "    <tr>\n",
       "      <th>3064</th>\n",
       "      <td>-1.386238</td>\n",
       "      <td>ni</td>\n",
       "    </tr>\n",
       "    <tr>\n",
       "      <th>3166</th>\n",
       "      <td>-1.376591</td>\n",
       "      <td>onelovemanchester</td>\n",
       "    </tr>\n",
       "    <tr>\n",
       "      <th>1062</th>\n",
       "      <td>-1.362349</td>\n",
       "      <td>cute</td>\n",
       "    </tr>\n",
       "    <tr>\n",
       "      <th>1133</th>\n",
       "      <td>-1.334341</td>\n",
       "      <td>definitely</td>\n",
       "    </tr>\n",
       "    <tr>\n",
       "      <th>3955</th>\n",
       "      <td>-1.326320</td>\n",
       "      <td>set</td>\n",
       "    </tr>\n",
       "    <tr>\n",
       "      <th>1691</th>\n",
       "      <td>-1.318770</td>\n",
       "      <td>food</td>\n",
       "    </tr>\n",
       "    <tr>\n",
       "      <th>1517</th>\n",
       "      <td>-1.241163</td>\n",
       "      <td>exo</td>\n",
       "    </tr>\n",
       "    <tr>\n",
       "      <th>3811</th>\n",
       "      <td>-1.238246</td>\n",
       "      <td>rt</td>\n",
       "    </tr>\n",
       "    <tr>\n",
       "      <th>918</th>\n",
       "      <td>-1.204934</td>\n",
       "      <td>concert</td>\n",
       "    </tr>\n",
       "    <tr>\n",
       "      <th>715</th>\n",
       "      <td>-1.196020</td>\n",
       "      <td>cavs</td>\n",
       "    </tr>\n",
       "    <tr>\n",
       "      <th>4120</th>\n",
       "      <td>-1.182604</td>\n",
       "      <td>song</td>\n",
       "    </tr>\n",
       "    <tr>\n",
       "      <th>2379</th>\n",
       "      <td>-1.175779</td>\n",
       "      <td>kd</td>\n",
       "    </tr>\n",
       "    <tr>\n",
       "      <th>839</th>\n",
       "      <td>-1.151927</td>\n",
       "      <td>club</td>\n",
       "    </tr>\n",
       "    <tr>\n",
       "      <th>4265</th>\n",
       "      <td>-1.143956</td>\n",
       "      <td>students</td>\n",
       "    </tr>\n",
       "    <tr>\n",
       "      <th>1188</th>\n",
       "      <td>-1.127081</td>\n",
       "      <td>di</td>\n",
       "    </tr>\n",
       "    <tr>\n",
       "      <th>4535</th>\n",
       "      <td>-1.117529</td>\n",
       "      <td>tory</td>\n",
       "    </tr>\n",
       "    <tr>\n",
       "      <th>4605</th>\n",
       "      <td>-1.116046</td>\n",
       "      <td>tryna</td>\n",
       "    </tr>\n",
       "    <tr>\n",
       "      <th>224</th>\n",
       "      <td>-1.105864</td>\n",
       "      <td>amp</td>\n",
       "    </tr>\n",
       "    <tr>\n",
       "      <th>4028</th>\n",
       "      <td>-1.098496</td>\n",
       "      <td>si</td>\n",
       "    </tr>\n",
       "    <tr>\n",
       "      <th>2346</th>\n",
       "      <td>-1.093156</td>\n",
       "      <td>june</td>\n",
       "    </tr>\n",
       "    <tr>\n",
       "      <th>3401</th>\n",
       "      <td>-1.088601</td>\n",
       "      <td>plus</td>\n",
       "    </tr>\n",
       "    <tr>\n",
       "      <th>4073</th>\n",
       "      <td>-1.085906</td>\n",
       "      <td>sleep</td>\n",
       "    </tr>\n",
       "    <tr>\n",
       "      <th>1948</th>\n",
       "      <td>-1.083774</td>\n",
       "      <td>happy</td>\n",
       "    </tr>\n",
       "    <tr>\n",
       "      <th>4054</th>\n",
       "      <td>-1.082155</td>\n",
       "      <td>sister</td>\n",
       "    </tr>\n",
       "  </tbody>\n",
       "</table>\n",
       "</div>"
      ],
      "text/plain": [
       "         coeff           features\n",
       "2662 -2.530111               love\n",
       "2936 -2.107242                 my\n",
       "3583 -2.059536                que\n",
       "618  -1.739444                bts\n",
       "3072 -1.669188              night\n",
       "4289 -1.645718             summer\n",
       "30   -1.591494               2017\n",
       "176  -1.441788                ain\n",
       "3064 -1.386238                 ni\n",
       "3166 -1.376591  onelovemanchester\n",
       "1062 -1.362349               cute\n",
       "1133 -1.334341         definitely\n",
       "3955 -1.326320                set\n",
       "1691 -1.318770               food\n",
       "1517 -1.241163                exo\n",
       "3811 -1.238246                 rt\n",
       "918  -1.204934            concert\n",
       "715  -1.196020               cavs\n",
       "4120 -1.182604               song\n",
       "2379 -1.175779                 kd\n",
       "839  -1.151927               club\n",
       "4265 -1.143956           students\n",
       "1188 -1.127081                 di\n",
       "4535 -1.117529               tory\n",
       "4605 -1.116046              tryna\n",
       "224  -1.105864                amp\n",
       "4028 -1.098496                 si\n",
       "2346 -1.093156               june\n",
       "3401 -1.088601               plus\n",
       "4073 -1.085906              sleep\n",
       "1948 -1.083774              happy\n",
       "4054 -1.082155             sister"
      ]
     },
     "execution_count": 461,
     "metadata": {},
     "output_type": "execute_result"
    }
   ],
   "source": [
    "imp_df[imp_df['coeff']<-1.05]"
   ]
  },
  {
   "cell_type": "code",
   "execution_count": null,
   "metadata": {
    "collapsed": true
   },
   "outputs": [],
   "source": [
    "with open('LR_model.pkl', 'wb') as fout:\n",
    "  pickle.dump((vectorizer, LR), fout)"
   ]
  },
  {
   "cell_type": "code",
   "execution_count": 227,
   "metadata": {
    "collapsed": true
   },
   "outputs": [],
   "source": [
    "from sklearn.metrics import roc_curve"
   ]
  },
  {
   "cell_type": "code",
   "execution_count": 482,
   "metadata": {
    "collapsed": false
   },
   "outputs": [
    {
     "data": {
      "image/png": "[encoded data removed]",
      "text/plain": [
       "<matplotlib.figure.Figure at 0x2a59b4588>"
      ]
     },
     "metadata": {},
     "output_type": "display_data"
    }
   ],
   "source": [
    "# The LR model by itself\n",
    "y_pred_lr = LR.predict_proba(X_test_vectorized)[:, 1]\n",
    "fpr_lr, tpr_lr, _ = roc_curve(y_test, y_pred_lr)\n",
    "\n",
    "plt.figure(1)\n",
    "plt.plot([0, 1], [0, 1], 'k--')\n",
    "\n",
    "plt.plot(fpr_lr, tpr_lr,)\n",
    "plt.xlabel('False positive rate')\n",
    "plt.ylabel('True positive rate')\n",
    "plt.title('ROC curve')\n",
    "plt.show()"
   ]
  },
  {
   "cell_type": "code",
   "execution_count": 472,
   "metadata": {
    "collapsed": false
   },
   "outputs": [],
   "source": [
    "from sklearn.model_selection import learning_curve\n",
    "from sklearn.model_selection import ShuffleSplit\n",
    "\n",
    "\n",
    "def plot_learning_curve(estimator, title, X, y, ylim=None, cv=None,\n",
    "                        n_jobs=1, train_sizes=np.linspace(.1, 1.0, 5)):\n",
    "    plt.figure()\n",
    "    plt.title(title)\n",
    "    if ylim is not None:\n",
    "        plt.ylim(*ylim)\n",
    "    plt.xlabel(\"Training examples\")\n",
    "    plt.ylabel(\"Score\")\n",
    "    train_sizes, train_scores, test_scores = learning_curve(\n",
    "        estimator, X, y, cv=cv, n_jobs=n_jobs, train_sizes=train_sizes)\n",
    "    train_scores_mean = np.mean(train_scores, axis=1)\n",
    "    train_scores_std = np.std(train_scores, axis=1)\n",
    "    test_scores_mean = np.mean(test_scores, axis=1)\n",
    "    test_scores_std = np.std(test_scores, axis=1)\n",
    "    plt.grid()\n",
    "\n",
    "    plt.fill_between(train_sizes, train_scores_mean - train_scores_std,\n",
    "                     train_scores_mean + train_scores_std, alpha=0.1,\n",
    "                     color=\"r\")\n",
    "    plt.fill_between(train_sizes, test_scores_mean - test_scores_std,\n",
    "                     test_scores_mean + test_scores_std, alpha=0.1, color=\"g\")\n",
    "    plt.plot(train_sizes, train_scores_mean, 'o-', color=\"r\",\n",
    "             label=\"Training score\")\n",
    "    plt.plot(train_sizes, test_scores_mean, 'o-', color=\"g\",\n",
    "             label=\"Cross-validation score\")\n",
    "\n",
    "    plt.legend(loc=\"best\")\n",
    "    return plt\n",
    "\n",
    "\n",
    "\n",
    "\n",
    "\n"
   ]
  },
  {
   "cell_type": "code",
   "execution_count": 481,
   "metadata": {
    "collapsed": false
   },
   "outputs": [
    {
     "data": {
      "text/plain": [
       "<module 'matplotlib.pyplot' from '/Users/angelavc/anaconda/envs/my_projects_env/lib/python3.6/site-packages/matplotlib/pyplot.py'>"
      ]
     },
     "execution_count": 481,
     "metadata": {},
     "output_type": "execute_result"
    },
    {
     "data": {
      "image/png": "[encoded data removed]",
      "text/plain": [
       "<matplotlib.figure.Figure at 0x365758240>"
      ]
     },
     "metadata": {},
     "output_type": "display_data"
    }
   ],
   "source": [
    "title = \"Learning Curves\"\n",
    "# Cross validation with 100 iterations to get smoother mean test and train\n",
    "# score curves, each time with 20% data randomly selected as a validation set.\n",
    "cv = ShuffleSplit(n_splits=100, test_size=0.2, random_state=0)\n",
    "\n",
    "estimator = LogisticRegression()\n",
    "plot_learning_curve(estimator, title, X_train_vectorized, y_train, ylim=(0.7, 1.01), cv=cv, n_jobs=4)"
   ]
  },
  {
   "cell_type": "markdown",
   "metadata": {},
   "source": [
    "# Model: Random Forest"
   ]
  },
  {
   "cell_type": "code",
   "execution_count": 234,
   "metadata": {
    "collapsed": true
   },
   "outputs": [],
   "source": [
    "from sklearn.ensemble import RandomForestClassifier\n"
   ]
  },
  {
   "cell_type": "code",
   "execution_count": null,
   "metadata": {
    "collapsed": true
   },
   "outputs": [],
   "source": [
    "# This is to include other features with the sparse word features\n",
    "X_train_vectorized = sp.sparse.hstack((vectorizer.fit_transform(X_train['tweet']),X_train[['friends_count','statuses_count']].values),format='csr')\n",
    "X_columns=vectorizer.get_feature_names()+X_train[['friends_count','statuses_count']].columns.tolist()\n",
    "\n",
    "# do same for test\n",
    "X_test_vectorized = sp.sparse.hstack((vectorizer.transform(X_test['tweet']),X_test[['friends_count','statuses_count']].values),format='csr')\n"
   ]
  },
  {
   "cell_type": "code",
   "execution_count": 259,
   "metadata": {
    "collapsed": false
   },
   "outputs": [],
   "source": [
    "# Initialize TFIDF vectorizor object (no n-grams)\n",
    "vectorizer = TfidfVectorizer( max_features = 10000, ngram_range=(1,2),sublinear_tf = True,stop_words=you_forms )\n",
    "#vectorizer = CountVectorizer( max_features = 5000, ngram_range=(1,2) )\n",
    "\n",
    "\n"
   ]
  },
  {
   "cell_type": "code",
   "execution_count": 289,
   "metadata": {
    "collapsed": true
   },
   "outputs": [],
   "source": [
    "# fit_transform() fits the model & and learns the vocab (features)\n",
    "# then it transforms the training data into feature vectors. \n",
    "# The input to fit_transform should be a list of \n",
    "# strings.\n",
    "X_train_vectorized = vectorizer.fit_transform(X_train['tweet'])\n",
    "\n",
    "# convert to array\n",
    "X_train_vectorized = X_train_vectorized.toarray()\n"
   ]
  },
  {
   "cell_type": "code",
   "execution_count": 290,
   "metadata": {
    "collapsed": false
   },
   "outputs": [],
   "source": [
    "# Initialize a Random Forest classifier with 100 trees\n",
    "# oob_score gives \"out of bag\" errors\n",
    "forest = RandomForestClassifier(n_estimators = 100,oob_score=True) \n",
    "\n",
    "# Fit the forest to the training set, using the bag of words as \n",
    "# features and the sentiment labels as the response variable\n",
    "#\n",
    "# This may take a few minutes to run\n",
    "\n",
    "\n",
    "forest = forest.fit( X_train_vectorized, y_train )\n"
   ]
  },
  {
   "cell_type": "code",
   "execution_count": 291,
   "metadata": {
    "collapsed": false
   },
   "outputs": [],
   "source": [
    "X_test_vectorized = vectorizer.transform(X_test['tweet']).toarray()"
   ]
  },
  {
   "cell_type": "code",
   "execution_count": 292,
   "metadata": {
    "collapsed": true
   },
   "outputs": [],
   "source": [
    "# vocab = feature names\n",
    "vocab = vectorizer.get_feature_names()"
   ]
  },
  {
   "cell_type": "code",
   "execution_count": 293,
   "metadata": {
    "collapsed": false
   },
   "outputs": [],
   "source": [
    "# get counts of all words\n",
    "vocabCounts = pd.DataFrame(np.column_stack([vocab, np.asarray(X_train_vectorized.sum(axis=0).ravel())]), \n",
    "                               columns=['vocab', 'count'])"
   ]
  },
  {
   "cell_type": "code",
   "execution_count": 295,
   "metadata": {
    "collapsed": false
   },
   "outputs": [
    {
     "data": {
      "text/plain": [
       "0.75317572335920957"
      ]
     },
     "execution_count": 295,
     "metadata": {},
     "output_type": "execute_result"
    }
   ],
   "source": [
    "# how does the train set do on the out of bag reviews?\n",
    "forest.oob_score_"
   ]
  },
  {
   "cell_type": "code",
   "execution_count": 239,
   "metadata": {
    "collapsed": false
   },
   "outputs": [
    {
     "name": "stdout",
     "output_type": "stream",
     "text": [
      "[ 0.78306878  0.78218695  0.77160494  0.7749338   0.76169462]\n"
     ]
    }
   ],
   "source": [
    "scores = cross_val_score(forest,X_train_vectorized, y_train, cv=5)\n",
    "print(scores)                                              "
   ]
  },
  {
   "cell_type": "code",
   "execution_count": 506,
   "metadata": {
    "collapsed": false
   },
   "outputs": [],
   "source": [
    "# Get predictors for this random forest from cross-validation\n",
    "from sklearn.model_selection import cross_val_predict"
   ]
  },
  {
   "cell_type": "code",
   "execution_count": 922,
   "metadata": {
    "collapsed": true
   },
   "outputs": [],
   "source": [
    "predTroll = cross_val_predict(forest,X_train_vectorized, y_train, cv=5)"
   ]
  },
  {
   "cell_type": "code",
   "execution_count": 265,
   "metadata": {
    "collapsed": false
   },
   "outputs": [],
   "source": [
    "result = forest.predict(X_test_vectorized)"
   ]
  },
  {
   "cell_type": "code",
   "execution_count": 242,
   "metadata": {
    "collapsed": true
   },
   "outputs": [],
   "source": [
    "# model evaluation\n",
    "from sklearn.metrics import classification_report"
   ]
  },
  {
   "cell_type": "code",
   "execution_count": 296,
   "metadata": {
    "collapsed": false
   },
   "outputs": [
    {
     "name": "stdout",
     "output_type": "stream",
     "text": [
      "             precision    recall  f1-score   support\n",
      "\n",
      "          0       0.78      0.79      0.79      1247\n",
      "          1       0.78      0.76      0.77      1183\n",
      "\n",
      "avg / total       0.78      0.78      0.78      2430\n",
      "\n"
     ]
    }
   ],
   "source": [
    "print(classification_report(y_test,result))"
   ]
  },
  {
   "cell_type": "code",
   "execution_count": 930,
   "metadata": {
    "collapsed": false
   },
   "outputs": [],
   "source": [
    "predicted = cross_val_predict(forest,X_train_vectorized, y_train, cv=5,method='predict_proba')"
   ]
  },
  {
   "cell_type": "code",
   "execution_count": 931,
   "metadata": {
    "collapsed": false
   },
   "outputs": [],
   "source": [
    "predictedRF = predicted"
   ]
  },
  {
   "cell_type": "code",
   "execution_count": 298,
   "metadata": {
    "collapsed": false
   },
   "outputs": [],
   "source": [
    "importances = forest.feature_importances_"
   ]
  },
  {
   "cell_type": "code",
   "execution_count": 300,
   "metadata": {
    "collapsed": false
   },
   "outputs": [],
   "source": [
    "imp_df = pd.DataFrame({'features':vocab,'import':importances}).sort_values('import')"
   ]
  },
  {
   "cell_type": "code",
   "execution_count": 1081,
   "metadata": {
    "collapsed": true
   },
   "outputs": [],
   "source": [
    "from sklearn.metrics import roc_curve"
   ]
  },
  {
   "cell_type": "code",
   "execution_count": 297,
   "metadata": {
    "collapsed": false
   },
   "outputs": [
    {
     "data": {
      "image/png": "[encoded data removed]",
      "text/plain": [
       "<matplotlib.figure.Figure at 0x1f9ac8fd0>"
      ]
     },
     "metadata": {},
     "output_type": "display_data"
    }
   ],
   "source": [
    "# The random forest model by itself\n",
    "y_pred_rf = forest.predict_proba(X_test_vectorized)[:, 1]\n",
    "fpr_rf, tpr_rf, _ = roc_curve(y_test, y_pred_rf)\n",
    "\n",
    "plt.figure(1)\n",
    "plt.plot([0, 1], [0, 1], 'k--')\n",
    "\n",
    "plt.plot(fpr_rf, tpr_rf, label='RF')\n",
    "plt.xlabel('False positive rate')\n",
    "plt.ylabel('True positive rate')\n",
    "plt.title('ROC curve')\n",
    "plt.legend(loc='best')\n",
    "plt.show()\n"
   ]
  },
  {
   "cell_type": "code",
   "execution_count": 301,
   "metadata": {
    "collapsed": false
   },
   "outputs": [
    {
     "data": {
      "text/html": [
       "<div>\n",
       "<table border=\"1\" class=\"dataframe\">\n",
       "  <thead>\n",
       "    <tr style=\"text-align: right;\">\n",
       "      <th></th>\n",
       "      <th>features</th>\n",
       "      <th>import</th>\n",
       "    </tr>\n",
       "  </thead>\n",
       "  <tbody>\n",
       "    <tr>\n",
       "      <th>1636</th>\n",
       "      <td>gemini may</td>\n",
       "      <td>0.000000</td>\n",
       "    </tr>\n",
       "    <tr>\n",
       "      <th>2496</th>\n",
       "      <td>lmao lmao</td>\n",
       "      <td>0.000000</td>\n",
       "    </tr>\n",
       "    <tr>\n",
       "      <th>3517</th>\n",
       "      <td>righ</td>\n",
       "      <td>0.000000</td>\n",
       "    </tr>\n",
       "    <tr>\n",
       "      <th>2576</th>\n",
       "      <td>maga usa</td>\n",
       "      <td>0.000000</td>\n",
       "    </tr>\n",
       "    <tr>\n",
       "      <th>3518</th>\n",
       "      <td>righ more</td>\n",
       "      <td>0.000000</td>\n",
       "    </tr>\n",
       "    <tr>\n",
       "      <th>2483</th>\n",
       "      <td>little inclin</td>\n",
       "      <td>0.000000</td>\n",
       "    </tr>\n",
       "    <tr>\n",
       "      <th>2957</th>\n",
       "      <td>now playing</td>\n",
       "      <td>0.000000</td>\n",
       "    </tr>\n",
       "    <tr>\n",
       "      <th>3343</th>\n",
       "      <td>project at</td>\n",
       "      <td>0.000000</td>\n",
       "    </tr>\n",
       "    <tr>\n",
       "      <th>2777</th>\n",
       "      <td>mplusplaces download</td>\n",
       "      <td>0.000000</td>\n",
       "    </tr>\n",
       "    <tr>\n",
       "      <th>2673</th>\n",
       "      <td>means different</td>\n",
       "      <td>0.000000</td>\n",
       "    </tr>\n",
       "    <tr>\n",
       "      <th>2890</th>\n",
       "      <td>nhpolitics</td>\n",
       "      <td>0.000000</td>\n",
       "    </tr>\n",
       "    <tr>\n",
       "      <th>2860</th>\n",
       "      <td>nea more</td>\n",
       "      <td>0.000000</td>\n",
       "    </tr>\n",
       "    <tr>\n",
       "      <th>2472</th>\n",
       "      <td>lirr</td>\n",
       "      <td>0.000000</td>\n",
       "    </tr>\n",
       "    <tr>\n",
       "      <th>2891</th>\n",
       "      <td>nhpolitics union</td>\n",
       "      <td>0.000000</td>\n",
       "    </tr>\n",
       "    <tr>\n",
       "      <th>2901</th>\n",
       "      <td>nj at</td>\n",
       "      <td>0.000000</td>\n",
       "    </tr>\n",
       "    <tr>\n",
       "      <th>2476</th>\n",
       "      <td>listen now</td>\n",
       "      <td>0.000000</td>\n",
       "    </tr>\n",
       "    <tr>\n",
       "      <th>358</th>\n",
       "      <td>as plea</td>\n",
       "      <td>0.000000</td>\n",
       "    </tr>\n",
       "    <tr>\n",
       "      <th>3745</th>\n",
       "      <td>sixfamiliesradio</td>\n",
       "      <td>0.000000</td>\n",
       "    </tr>\n",
       "    <tr>\n",
       "      <th>4636</th>\n",
       "      <td>very same</td>\n",
       "      <td>0.000000</td>\n",
       "    </tr>\n",
       "    <tr>\n",
       "      <th>1305</th>\n",
       "      <td>ep3</td>\n",
       "      <td>0.000000</td>\n",
       "    </tr>\n",
       "    <tr>\n",
       "      <th>1298</th>\n",
       "      <td>enter amazongiveaway</td>\n",
       "      <td>0.000000</td>\n",
       "    </tr>\n",
       "    <tr>\n",
       "      <th>1273</th>\n",
       "      <td>empower devotional</td>\n",
       "      <td>0.000000</td>\n",
       "    </tr>\n",
       "    <tr>\n",
       "      <th>125</th>\n",
       "      <td>ails</td>\n",
       "      <td>0.000000</td>\n",
       "    </tr>\n",
       "    <tr>\n",
       "      <th>3391</th>\n",
       "      <td>quran</td>\n",
       "      <td>0.000000</td>\n",
       "    </tr>\n",
       "    <tr>\n",
       "      <th>2859</th>\n",
       "      <td>nea</td>\n",
       "      <td>0.000000</td>\n",
       "    </tr>\n",
       "    <tr>\n",
       "      <th>21</th>\n",
       "      <td>2017btsfesta 2017btsfesta</td>\n",
       "      <td>0.000000</td>\n",
       "    </tr>\n",
       "    <tr>\n",
       "      <th>2883</th>\n",
       "      <td>news bibleprophecy</td>\n",
       "      <td>0.000000</td>\n",
       "    </tr>\n",
       "    <tr>\n",
       "      <th>273</th>\n",
       "      <td>anonymousnudes</td>\n",
       "      <td>0.000000</td>\n",
       "    </tr>\n",
       "    <tr>\n",
       "      <th>316</th>\n",
       "      <td>are moved</td>\n",
       "      <td>0.000000</td>\n",
       "    </tr>\n",
       "    <tr>\n",
       "      <th>2984</th>\n",
       "      <td>of convictions</td>\n",
       "      <td>0.000000</td>\n",
       "    </tr>\n",
       "    <tr>\n",
       "      <th>...</th>\n",
       "      <td>...</td>\n",
       "      <td>...</td>\n",
       "    </tr>\n",
       "    <tr>\n",
       "      <th>4553</th>\n",
       "      <td>twitter</td>\n",
       "      <td>0.002589</td>\n",
       "    </tr>\n",
       "    <tr>\n",
       "      <th>3394</th>\n",
       "      <td>racist</td>\n",
       "      <td>0.002628</td>\n",
       "    </tr>\n",
       "    <tr>\n",
       "      <th>4043</th>\n",
       "      <td>that</td>\n",
       "      <td>0.002636</td>\n",
       "    </tr>\n",
       "    <tr>\n",
       "      <th>1623</th>\n",
       "      <td>gamergate</td>\n",
       "      <td>0.002655</td>\n",
       "    </tr>\n",
       "    <tr>\n",
       "      <th>2575</th>\n",
       "      <td>maga</td>\n",
       "      <td>0.002721</td>\n",
       "    </tr>\n",
       "    <tr>\n",
       "      <th>2022</th>\n",
       "      <td>in</td>\n",
       "      <td>0.002769</td>\n",
       "    </tr>\n",
       "    <tr>\n",
       "      <th>194</th>\n",
       "      <td>an</td>\n",
       "      <td>0.002827</td>\n",
       "    </tr>\n",
       "    <tr>\n",
       "      <th>4917</th>\n",
       "      <td>women</td>\n",
       "      <td>0.002897</td>\n",
       "    </tr>\n",
       "    <tr>\n",
       "      <th>3378</th>\n",
       "      <td>que</td>\n",
       "      <td>0.003006</td>\n",
       "    </tr>\n",
       "    <tr>\n",
       "      <th>4200</th>\n",
       "      <td>their</td>\n",
       "      <td>0.003218</td>\n",
       "    </tr>\n",
       "    <tr>\n",
       "      <th>862</th>\n",
       "      <td>comey</td>\n",
       "      <td>0.003388</td>\n",
       "    </tr>\n",
       "    <tr>\n",
       "      <th>1025</th>\n",
       "      <td>de</td>\n",
       "      <td>0.003502</td>\n",
       "    </tr>\n",
       "    <tr>\n",
       "      <th>3768</th>\n",
       "      <td>so</td>\n",
       "      <td>0.003613</td>\n",
       "    </tr>\n",
       "    <tr>\n",
       "      <th>2754</th>\n",
       "      <td>more for</td>\n",
       "      <td>0.003755</td>\n",
       "    </tr>\n",
       "    <tr>\n",
       "      <th>4339</th>\n",
       "      <td>to</td>\n",
       "      <td>0.003787</td>\n",
       "    </tr>\n",
       "    <tr>\n",
       "      <th>203</th>\n",
       "      <td>and</td>\n",
       "      <td>0.003967</td>\n",
       "    </tr>\n",
       "    <tr>\n",
       "      <th>2979</th>\n",
       "      <td>of</td>\n",
       "      <td>0.004049</td>\n",
       "    </tr>\n",
       "    <tr>\n",
       "      <th>2752</th>\n",
       "      <td>more</td>\n",
       "      <td>0.004082</td>\n",
       "    </tr>\n",
       "    <tr>\n",
       "      <th>4818</th>\n",
       "      <td>white</td>\n",
       "      <td>0.004840</td>\n",
       "    </tr>\n",
       "    <tr>\n",
       "      <th>2433</th>\n",
       "      <td>liberal</td>\n",
       "      <td>0.004981</td>\n",
       "    </tr>\n",
       "    <tr>\n",
       "      <th>2106</th>\n",
       "      <td>is</td>\n",
       "      <td>0.005039</td>\n",
       "    </tr>\n",
       "    <tr>\n",
       "      <th>2972</th>\n",
       "      <td>obama</td>\n",
       "      <td>0.005074</td>\n",
       "    </tr>\n",
       "    <tr>\n",
       "      <th>4082</th>\n",
       "      <td>the</td>\n",
       "      <td>0.005975</td>\n",
       "    </tr>\n",
       "    <tr>\n",
       "      <th>184</th>\n",
       "      <td>america</td>\n",
       "      <td>0.006097</td>\n",
       "    </tr>\n",
       "    <tr>\n",
       "      <th>304</th>\n",
       "      <td>are</td>\n",
       "      <td>0.006132</td>\n",
       "    </tr>\n",
       "    <tr>\n",
       "      <th>2537</th>\n",
       "      <td>love</td>\n",
       "      <td>0.006187</td>\n",
       "    </tr>\n",
       "    <tr>\n",
       "      <th>3307</th>\n",
       "      <td>president</td>\n",
       "      <td>0.006601</td>\n",
       "    </tr>\n",
       "    <tr>\n",
       "      <th>2803</th>\n",
       "      <td>my</td>\n",
       "      <td>0.007259</td>\n",
       "    </tr>\n",
       "    <tr>\n",
       "      <th>2637</th>\n",
       "      <td>me</td>\n",
       "      <td>0.009280</td>\n",
       "    </tr>\n",
       "    <tr>\n",
       "      <th>4520</th>\n",
       "      <td>trump</td>\n",
       "      <td>0.015896</td>\n",
       "    </tr>\n",
       "  </tbody>\n",
       "</table>\n",
       "<p>5000 rows × 2 columns</p>\n",
       "</div>"
      ],
      "text/plain": [
       "                       features    import\n",
       "1636                 gemini may  0.000000\n",
       "2496                  lmao lmao  0.000000\n",
       "3517                       righ  0.000000\n",
       "2576                   maga usa  0.000000\n",
       "3518                  righ more  0.000000\n",
       "2483              little inclin  0.000000\n",
       "2957                now playing  0.000000\n",
       "3343                 project at  0.000000\n",
       "2777       mplusplaces download  0.000000\n",
       "2673            means different  0.000000\n",
       "2890                 nhpolitics  0.000000\n",
       "2860                   nea more  0.000000\n",
       "2472                       lirr  0.000000\n",
       "2891           nhpolitics union  0.000000\n",
       "2901                      nj at  0.000000\n",
       "2476                 listen now  0.000000\n",
       "358                     as plea  0.000000\n",
       "3745           sixfamiliesradio  0.000000\n",
       "4636                  very same  0.000000\n",
       "1305                        ep3  0.000000\n",
       "1298       enter amazongiveaway  0.000000\n",
       "1273         empower devotional  0.000000\n",
       "125                        ails  0.000000\n",
       "3391                      quran  0.000000\n",
       "2859                        nea  0.000000\n",
       "21    2017btsfesta 2017btsfesta  0.000000\n",
       "2883         news bibleprophecy  0.000000\n",
       "273              anonymousnudes  0.000000\n",
       "316                   are moved  0.000000\n",
       "2984             of convictions  0.000000\n",
       "...                         ...       ...\n",
       "4553                    twitter  0.002589\n",
       "3394                     racist  0.002628\n",
       "4043                       that  0.002636\n",
       "1623                  gamergate  0.002655\n",
       "2575                       maga  0.002721\n",
       "2022                         in  0.002769\n",
       "194                          an  0.002827\n",
       "4917                      women  0.002897\n",
       "3378                        que  0.003006\n",
       "4200                      their  0.003218\n",
       "862                       comey  0.003388\n",
       "1025                         de  0.003502\n",
       "3768                         so  0.003613\n",
       "2754                   more for  0.003755\n",
       "4339                         to  0.003787\n",
       "203                         and  0.003967\n",
       "2979                         of  0.004049\n",
       "2752                       more  0.004082\n",
       "4818                      white  0.004840\n",
       "2433                    liberal  0.004981\n",
       "2106                         is  0.005039\n",
       "2972                      obama  0.005074\n",
       "4082                        the  0.005975\n",
       "184                     america  0.006097\n",
       "304                         are  0.006132\n",
       "2537                       love  0.006187\n",
       "3307                  president  0.006601\n",
       "2803                         my  0.007259\n",
       "2637                         me  0.009280\n",
       "4520                      trump  0.015896\n",
       "\n",
       "[5000 rows x 2 columns]"
      ]
     },
     "execution_count": 301,
     "metadata": {},
     "output_type": "execute_result"
    }
   ],
   "source": [
    "imp_df[[\"features\",\"import\"]].sort_values(by=\"import\")"
   ]
  },
  {
   "cell_type": "code",
   "execution_count": null,
   "metadata": {
    "collapsed": true
   },
   "outputs": [],
   "source": [
    "false_positive_rate, true_positive_rate, thresholds = roc_curve(actual, predictions)\n",
    "roc_auc = auc(false_positive_rate, true_positive_rate)\n"
   ]
  },
  {
   "cell_type": "code",
   "execution_count": 608,
   "metadata": {
    "collapsed": false
   },
   "outputs": [],
   "source": [
    "# add this as feature to users_df\n",
    "users_df['proba_nonTroll']=predicted[:,0].tolist()"
   ]
  },
  {
   "cell_type": "code",
   "execution_count": 609,
   "metadata": {
    "collapsed": true
   },
   "outputs": [],
   "source": [
    "users_df['proba_troll']=predicted[:,1].tolist()"
   ]
  },
  {
   "cell_type": "code",
   "execution_count": 621,
   "metadata": {
    "collapsed": false,
    "scrolled": true
   },
   "outputs": [
    {
     "data": {
      "text/html": [
       "<div>\n",
       "<table border=\"1\" class=\"dataframe\">\n",
       "  <thead>\n",
       "    <tr style=\"text-align: right;\">\n",
       "      <th></th>\n",
       "      <th>user</th>\n",
       "      <th>description</th>\n",
       "      <th>statuses_count</th>\n",
       "      <th>followers_count</th>\n",
       "      <th>friends_count</th>\n",
       "      <th>favourites_count</th>\n",
       "      <th>listed_count</th>\n",
       "      <th>location</th>\n",
       "      <th>created_at</th>\n",
       "      <th>accountAge</th>\n",
       "      <th>...</th>\n",
       "      <th>neu</th>\n",
       "      <th>pos</th>\n",
       "      <th>troll</th>\n",
       "      <th>screen_name</th>\n",
       "      <th>tweet</th>\n",
       "      <th>probaRF</th>\n",
       "      <th>proba_nonTroll</th>\n",
       "      <th>proba_troll</th>\n",
       "      <th>X_new_preds</th>\n",
       "      <th>predTroll</th>\n",
       "    </tr>\n",
       "  </thead>\n",
       "  <tbody>\n",
       "    <tr>\n",
       "      <th>374</th>\n",
       "      <td>User(_api=&lt;tweepy.api.API object at 0x2fe3b219...</td>\n",
       "      <td>-Photoholic❤DegreeHolder❤Dancer❤Singer(sa bany...</td>\n",
       "      <td>-0.343597</td>\n",
       "      <td>-0.058700</td>\n",
       "      <td>-0.181849</td>\n",
       "      <td>-0.338646</td>\n",
       "      <td>-0.130241</td>\n",
       "      <td>Tiaong, Calabarzon</td>\n",
       "      <td>2012-10-31 09:33:39</td>\n",
       "      <td>0.226147</td>\n",
       "      <td>...</td>\n",
       "      <td>1.000</td>\n",
       "      <td>0.000</td>\n",
       "      <td>1</td>\n",
       "      <td>siiPeRlita</td>\n",
       "      <td>one person followed me // automatically checke...</td>\n",
       "      <td>[0.62, 0.38]</td>\n",
       "      <td>0.54</td>\n",
       "      <td>0.46</td>\n",
       "      <td>1</td>\n",
       "      <td>0</td>\n",
       "    </tr>\n",
       "    <tr>\n",
       "      <th>86</th>\n",
       "      <td>User(_api=&lt;tweepy.api.API object at 0x2fe3b219...</td>\n",
       "      <td>Semi-retired Chef and Baker, US Navy Veteran U...</td>\n",
       "      <td>-0.246192</td>\n",
       "      <td>-0.057616</td>\n",
       "      <td>-0.083737</td>\n",
       "      <td>-0.231706</td>\n",
       "      <td>-0.102409</td>\n",
       "      <td>Shasta County California</td>\n",
       "      <td>2017-01-07 04:30:49</td>\n",
       "      <td>-1.293827</td>\n",
       "      <td>...</td>\n",
       "      <td>0.905</td>\n",
       "      <td>0.095</td>\n",
       "      <td>1</td>\n",
       "      <td>JefferyHankins2</td>\n",
       "      <td>FUCKING #BUILDTHATWALL! HOLY COW! https://t.co...</td>\n",
       "      <td>[0.3, 0.7]</td>\n",
       "      <td>0.32</td>\n",
       "      <td>0.68</td>\n",
       "      <td>1</td>\n",
       "      <td>1</td>\n",
       "    </tr>\n",
       "    <tr>\n",
       "      <th>175</th>\n",
       "      <td>User(_api=&lt;tweepy.api.API object at 0x2fe3b219...</td>\n",
       "      <td>Indie game dev working on Mammoth Gravity Batt...</td>\n",
       "      <td>-0.365362</td>\n",
       "      <td>-0.054911</td>\n",
       "      <td>0.046201</td>\n",
       "      <td>-0.441440</td>\n",
       "      <td>-0.075787</td>\n",
       "      <td>Cambridge, uk</td>\n",
       "      <td>2013-01-26 14:42:01</td>\n",
       "      <td>0.139661</td>\n",
       "      <td>...</td>\n",
       "      <td>0.843</td>\n",
       "      <td>0.000</td>\n",
       "      <td>1</td>\n",
       "      <td>SpaceMammoth</td>\n",
       "      <td>Space Mammoths are dancing in support of world...</td>\n",
       "      <td>[0.45, 0.55]</td>\n",
       "      <td>0.52</td>\n",
       "      <td>0.48</td>\n",
       "      <td>1</td>\n",
       "      <td>1</td>\n",
       "    </tr>\n",
       "    <tr>\n",
       "      <th>43</th>\n",
       "      <td>User(_api=&lt;tweepy.api.API object at 0x2fe3b219...</td>\n",
       "      <td>Progressive Political Commentator &amp; Syndicated...</td>\n",
       "      <td>-0.175318</td>\n",
       "      <td>-0.042270</td>\n",
       "      <td>-0.179871</td>\n",
       "      <td>-0.373459</td>\n",
       "      <td>-0.049165</td>\n",
       "      <td>Long Island, New York</td>\n",
       "      <td>2009-03-29 05:22:16</td>\n",
       "      <td>1.530403</td>\n",
       "      <td>...</td>\n",
       "      <td>0.820</td>\n",
       "      <td>0.000</td>\n",
       "      <td>1</td>\n",
       "      <td>ChristopherHahn</td>\n",
       "      <td>Happy 😊🐞https://t.co/PdINtPZ0ckStating the obv...</td>\n",
       "      <td>[0.48, 0.52]</td>\n",
       "      <td>0.55</td>\n",
       "      <td>0.45</td>\n",
       "      <td>1</td>\n",
       "      <td>1</td>\n",
       "    </tr>\n",
       "    <tr>\n",
       "      <th>110</th>\n",
       "      <td>User(_api=&lt;tweepy.api.API object at 0x2fe3b219...</td>\n",
       "      <td>born U.S.A.</td>\n",
       "      <td>-0.219886</td>\n",
       "      <td>-0.060681</td>\n",
       "      <td>-0.258031</td>\n",
       "      <td>-0.456734</td>\n",
       "      <td>-0.124190</td>\n",
       "      <td>BRONX N.Y.</td>\n",
       "      <td>2015-09-21 00:07:02</td>\n",
       "      <td>-0.822625</td>\n",
       "      <td>...</td>\n",
       "      <td>1.000</td>\n",
       "      <td>0.000</td>\n",
       "      <td>1</td>\n",
       "      <td>MYTQIN</td>\n",
       "      <td>WHAT S NEEDED NOW IS DID J. COMEY LEAK THE MEE...</td>\n",
       "      <td>[0.26, 0.74]</td>\n",
       "      <td>0.22</td>\n",
       "      <td>0.78</td>\n",
       "      <td>1</td>\n",
       "      <td>1</td>\n",
       "    </tr>\n",
       "  </tbody>\n",
       "</table>\n",
       "<p>5 rows × 25 columns</p>\n",
       "</div>"
      ],
      "text/plain": [
       "                                                  user  \\\n",
       "374  User(_api=<tweepy.api.API object at 0x2fe3b219...   \n",
       "86   User(_api=<tweepy.api.API object at 0x2fe3b219...   \n",
       "175  User(_api=<tweepy.api.API object at 0x2fe3b219...   \n",
       "43   User(_api=<tweepy.api.API object at 0x2fe3b219...   \n",
       "110  User(_api=<tweepy.api.API object at 0x2fe3b219...   \n",
       "\n",
       "                                           description  statuses_count  \\\n",
       "374  -Photoholic❤DegreeHolder❤Dancer❤Singer(sa bany...       -0.343597   \n",
       "86   Semi-retired Chef and Baker, US Navy Veteran U...       -0.246192   \n",
       "175  Indie game dev working on Mammoth Gravity Batt...       -0.365362   \n",
       "43   Progressive Political Commentator & Syndicated...       -0.175318   \n",
       "110                                        born U.S.A.       -0.219886   \n",
       "\n",
       "     followers_count  friends_count  favourites_count  listed_count  \\\n",
       "374        -0.058700      -0.181849         -0.338646     -0.130241   \n",
       "86         -0.057616      -0.083737         -0.231706     -0.102409   \n",
       "175        -0.054911       0.046201         -0.441440     -0.075787   \n",
       "43         -0.042270      -0.179871         -0.373459     -0.049165   \n",
       "110        -0.060681      -0.258031         -0.456734     -0.124190   \n",
       "\n",
       "                      location          created_at  accountAge    ...     \\\n",
       "374         Tiaong, Calabarzon 2012-10-31 09:33:39    0.226147    ...      \n",
       "86   Shasta County California  2017-01-07 04:30:49   -1.293827    ...      \n",
       "175              Cambridge, uk 2013-01-26 14:42:01    0.139661    ...      \n",
       "43       Long Island, New York 2009-03-29 05:22:16    1.530403    ...      \n",
       "110                 BRONX N.Y. 2015-09-21 00:07:02   -0.822625    ...      \n",
       "\n",
       "       neu    pos troll      screen_name  \\\n",
       "374  1.000  0.000     1       siiPeRlita   \n",
       "86   0.905  0.095     1  JefferyHankins2   \n",
       "175  0.843  0.000     1     SpaceMammoth   \n",
       "43   0.820  0.000     1  ChristopherHahn   \n",
       "110  1.000  0.000     1           MYTQIN   \n",
       "\n",
       "                                                 tweet       probaRF  \\\n",
       "374  one person followed me // automatically checke...  [0.62, 0.38]   \n",
       "86   FUCKING #BUILDTHATWALL! HOLY COW! https://t.co...    [0.3, 0.7]   \n",
       "175  Space Mammoths are dancing in support of world...  [0.45, 0.55]   \n",
       "43   Happy 😊🐞https://t.co/PdINtPZ0ckStating the obv...  [0.48, 0.52]   \n",
       "110  WHAT S NEEDED NOW IS DID J. COMEY LEAK THE MEE...  [0.26, 0.74]   \n",
       "\n",
       "     proba_nonTroll  proba_troll X_new_preds predTroll  \n",
       "374            0.54         0.46           1         0  \n",
       "86             0.32         0.68           1         1  \n",
       "175            0.52         0.48           1         1  \n",
       "43             0.55         0.45           1         1  \n",
       "110            0.22         0.78           1         1  \n",
       "\n",
       "[5 rows x 25 columns]"
      ]
     },
     "execution_count": 621,
     "metadata": {},
     "output_type": "execute_result"
    }
   ],
   "source": [
    "users_df[.head()]"
   ]
  },
  {
   "cell_type": "code",
   "execution_count": 615,
   "metadata": {
    "collapsed": true
   },
   "outputs": [],
   "source": [
    "new_samples = users_df['tweet']"
   ]
  },
  {
   "cell_type": "code",
   "execution_count": 1079,
   "metadata": {
    "collapsed": true
   },
   "outputs": [],
   "source": [
    "with open('forest_model.pkl', 'wb') as fout:\n",
    "  pickle.dump((vectorizer, forest), fout)"
   ]
  },
  {
   "cell_type": "code",
   "execution_count": 1064,
   "metadata": {
    "collapsed": false
   },
   "outputs": [],
   "source": [
    "with open('forest_model.pkl', 'rb') as fin:\n",
    "    vectorizer, forest = pickle.load(fin)\n",
    "\n",
    "X_new = vectorizer.transform(new_samples)\n",
    "X_new_preds = forest.predict(X_new)"
   ]
  },
  {
   "cell_type": "code",
   "execution_count": 617,
   "metadata": {
    "collapsed": false
   },
   "outputs": [],
   "source": [
    "users_df['X_new_preds']=X_new_preds"
   ]
  }
 ],
 "metadata": {
  "kernelspec": {
   "display_name": "Python 3",
   "language": "python",
   "name": "python3"
  },
  "language_info": {
   "codemirror_mode": {
    "name": "ipython",
    "version": 3
   },
   "file_extension": ".py",
   "mimetype": "text/x-python",
   "name": "python",
   "nbconvert_exporter": "python",
   "pygments_lexer": "ipython3",
   "version": "3.6.0"
  }
 },
 "nbformat": 4,
 "nbformat_minor": 2
}
